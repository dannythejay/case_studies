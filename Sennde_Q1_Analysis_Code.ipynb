{
 "cells": [
  {
   "cell_type": "code",
   "execution_count": 53,
   "metadata": {},
   "outputs": [],
   "source": [
    "import pandas as pd\n",
    "import numpy as np\n",
    "import matplotlib.pyplot as plt\n",
    "import seaborn as sns"
   ]
  },
  {
   "cell_type": "code",
   "execution_count": 54,
   "metadata": {},
   "outputs": [
    {
     "data": {
      "text/plain": [
       "'0.11.1'"
      ]
     },
     "execution_count": 54,
     "metadata": {},
     "output_type": "execute_result"
    }
   ],
   "source": [
    "sns.__version__"
   ]
  },
  {
   "cell_type": "code",
   "execution_count": 55,
   "metadata": {},
   "outputs": [],
   "source": [
    "pd.set_option('display.float_format', lambda x: '%.5f' % x)"
   ]
  },
  {
   "cell_type": "code",
   "execution_count": 56,
   "metadata": {},
   "outputs": [],
   "source": [
    "%matplotlib inline"
   ]
  },
  {
   "cell_type": "code",
   "execution_count": 57,
   "metadata": {},
   "outputs": [],
   "source": [
    "df = pd.read_excel(r'C:\\Users\\rob\\OneDrive\\Desktop\\case_study_data csv PRICING ANALYST SENNDER 2021 Rob.xlsx')"
   ]
  },
  {
   "cell_type": "code",
   "execution_count": 58,
   "metadata": {},
   "outputs": [
    {
     "data": {
      "text/html": [
       "<div>\n",
       "<style scoped>\n",
       "    .dataframe tbody tr th:only-of-type {\n",
       "        vertical-align: middle;\n",
       "    }\n",
       "\n",
       "    .dataframe tbody tr th {\n",
       "        vertical-align: top;\n",
       "    }\n",
       "\n",
       "    .dataframe thead th {\n",
       "        text-align: right;\n",
       "    }\n",
       "</style>\n",
       "<table border=\"1\" class=\"dataframe\">\n",
       "  <thead>\n",
       "    <tr style=\"text-align: right;\">\n",
       "      <th></th>\n",
       "      <th>PICKUP_MONTH</th>\n",
       "      <th>SHIPPER ID</th>\n",
       "      <th>SHIPPER CATEGORY</th>\n",
       "      <th>LOAD CATEGORY</th>\n",
       "      <th>ORDER_TYPE</th>\n",
       "      <th>DOMESTIC_VS_CROSS_BORDER</th>\n",
       "      <th>LOADS</th>\n",
       "      <th>SHIPPER_PRICE (REVENUE)</th>\n",
       "      <th>CARRIER_PRICE (COST)</th>\n",
       "    </tr>\n",
       "  </thead>\n",
       "  <tbody>\n",
       "    <tr>\n",
       "      <th>0</th>\n",
       "      <td>2020-01-01</td>\n",
       "      <td>0010O00001vmYzfQAE</td>\n",
       "      <td>Food &amp; Beverages</td>\n",
       "      <td>PLATFORM</td>\n",
       "      <td>CONTRACT</td>\n",
       "      <td>domestic</td>\n",
       "      <td>141</td>\n",
       "      <td>106909.44813</td>\n",
       "      <td>107080.23750</td>\n",
       "    </tr>\n",
       "    <tr>\n",
       "      <th>1</th>\n",
       "      <td>2020-01-01</td>\n",
       "      <td>0010O00002M1P8nQAF</td>\n",
       "      <td>Industrial materials</td>\n",
       "      <td>PLATFORM</td>\n",
       "      <td>CONTRACT</td>\n",
       "      <td>cross-border</td>\n",
       "      <td>1</td>\n",
       "      <td>2702.50000</td>\n",
       "      <td>2300.00000</td>\n",
       "    </tr>\n",
       "    <tr>\n",
       "      <th>2</th>\n",
       "      <td>2020-01-01</td>\n",
       "      <td>0013Y00002UjLn1QAF</td>\n",
       "      <td>Industrial materials</td>\n",
       "      <td>PLATFORM</td>\n",
       "      <td>SPOT</td>\n",
       "      <td>cross-border</td>\n",
       "      <td>1</td>\n",
       "      <td>1091.25000</td>\n",
       "      <td>1030.62500</td>\n",
       "    </tr>\n",
       "    <tr>\n",
       "      <th>3</th>\n",
       "      <td>2020-01-01</td>\n",
       "      <td>0010O00002Bji22QAB</td>\n",
       "      <td>Other Manufacturing</td>\n",
       "      <td>PLATFORM</td>\n",
       "      <td>SPOT</td>\n",
       "      <td>cross-border</td>\n",
       "      <td>5</td>\n",
       "      <td>13051.25000</td>\n",
       "      <td>10361.50000</td>\n",
       "    </tr>\n",
       "    <tr>\n",
       "      <th>4</th>\n",
       "      <td>2020-01-01</td>\n",
       "      <td>0013Y00002UkaqeQAB</td>\n",
       "      <td>Food &amp; Beverages</td>\n",
       "      <td>PLATFORM</td>\n",
       "      <td>CONTRACT</td>\n",
       "      <td>cross-border</td>\n",
       "      <td>1</td>\n",
       "      <td>2227.50000</td>\n",
       "      <td>2014.87500</td>\n",
       "    </tr>\n",
       "  </tbody>\n",
       "</table>\n",
       "</div>"
      ],
      "text/plain": [
       "  PICKUP_MONTH          SHIPPER ID      SHIPPER CATEGORY LOAD CATEGORY  \\\n",
       "0   2020-01-01  0010O00001vmYzfQAE      Food & Beverages      PLATFORM   \n",
       "1   2020-01-01  0010O00002M1P8nQAF  Industrial materials      PLATFORM   \n",
       "2   2020-01-01  0013Y00002UjLn1QAF  Industrial materials      PLATFORM   \n",
       "3   2020-01-01  0010O00002Bji22QAB   Other Manufacturing      PLATFORM   \n",
       "4   2020-01-01  0013Y00002UkaqeQAB      Food & Beverages      PLATFORM   \n",
       "\n",
       "  ORDER_TYPE DOMESTIC_VS_CROSS_BORDER  LOADS  SHIPPER_PRICE (REVENUE)  \\\n",
       "0   CONTRACT                 domestic    141             106909.44813   \n",
       "1   CONTRACT             cross-border      1               2702.50000   \n",
       "2       SPOT             cross-border      1               1091.25000   \n",
       "3       SPOT             cross-border      5              13051.25000   \n",
       "4   CONTRACT             cross-border      1               2227.50000   \n",
       "\n",
       "   CARRIER_PRICE (COST)  \n",
       "0          107080.23750  \n",
       "1            2300.00000  \n",
       "2            1030.62500  \n",
       "3           10361.50000  \n",
       "4            2014.87500  "
      ]
     },
     "execution_count": 58,
     "metadata": {},
     "output_type": "execute_result"
    }
   ],
   "source": [
    "df.head()"
   ]
  },
  {
   "cell_type": "code",
   "execution_count": 59,
   "metadata": {},
   "outputs": [
    {
     "name": "stdout",
     "output_type": "stream",
     "text": [
      "<class 'pandas.core.frame.DataFrame'>\n",
      "RangeIndex: 1001 entries, 0 to 1000\n",
      "Data columns (total 9 columns):\n",
      " #   Column                    Non-Null Count  Dtype         \n",
      "---  ------                    --------------  -----         \n",
      " 0   PICKUP_MONTH              1001 non-null   datetime64[ns]\n",
      " 1   SHIPPER ID                1001 non-null   object        \n",
      " 2   SHIPPER CATEGORY          1001 non-null   object        \n",
      " 3   LOAD CATEGORY             1001 non-null   object        \n",
      " 4   ORDER_TYPE                1001 non-null   object        \n",
      " 5   DOMESTIC_VS_CROSS_BORDER  1001 non-null   object        \n",
      " 6   LOADS                     1001 non-null   int64         \n",
      " 7   SHIPPER_PRICE (REVENUE)   1001 non-null   float64       \n",
      " 8   CARRIER_PRICE (COST)      1001 non-null   float64       \n",
      "dtypes: datetime64[ns](1), float64(2), int64(1), object(5)\n",
      "memory usage: 70.5+ KB\n"
     ]
    }
   ],
   "source": [
    "df.info()"
   ]
  },
  {
   "cell_type": "markdown",
   "metadata": {},
   "source": [
    "9 columns, 1001 rows, are columns in correct Dtype?"
   ]
  },
  {
   "cell_type": "code",
   "execution_count": 60,
   "metadata": {},
   "outputs": [
    {
     "data": {
      "text/html": [
       "<div>\n",
       "<style scoped>\n",
       "    .dataframe tbody tr th:only-of-type {\n",
       "        vertical-align: middle;\n",
       "    }\n",
       "\n",
       "    .dataframe tbody tr th {\n",
       "        vertical-align: top;\n",
       "    }\n",
       "\n",
       "    .dataframe thead th {\n",
       "        text-align: right;\n",
       "    }\n",
       "</style>\n",
       "<table border=\"1\" class=\"dataframe\">\n",
       "  <thead>\n",
       "    <tr style=\"text-align: right;\">\n",
       "      <th></th>\n",
       "      <th>LOADS</th>\n",
       "      <th>SHIPPER_PRICE (REVENUE)</th>\n",
       "      <th>CARRIER_PRICE (COST)</th>\n",
       "    </tr>\n",
       "  </thead>\n",
       "  <tbody>\n",
       "    <tr>\n",
       "      <th>count</th>\n",
       "      <td>1001.00000</td>\n",
       "      <td>1001.00000</td>\n",
       "      <td>1001.00000</td>\n",
       "    </tr>\n",
       "    <tr>\n",
       "      <th>mean</th>\n",
       "      <td>19.06394</td>\n",
       "      <td>17059.39487</td>\n",
       "      <td>16471.79650</td>\n",
       "    </tr>\n",
       "    <tr>\n",
       "      <th>std</th>\n",
       "      <td>60.49590</td>\n",
       "      <td>44688.48427</td>\n",
       "      <td>42713.13616</td>\n",
       "    </tr>\n",
       "    <tr>\n",
       "      <th>min</th>\n",
       "      <td>1.00000</td>\n",
       "      <td>212.50000</td>\n",
       "      <td>159.37500</td>\n",
       "    </tr>\n",
       "    <tr>\n",
       "      <th>25%</th>\n",
       "      <td>1.00000</td>\n",
       "      <td>1615.00000</td>\n",
       "      <td>1507.00000</td>\n",
       "    </tr>\n",
       "    <tr>\n",
       "      <th>50%</th>\n",
       "      <td>4.00000</td>\n",
       "      <td>4141.50000</td>\n",
       "      <td>3961.75000</td>\n",
       "    </tr>\n",
       "    <tr>\n",
       "      <th>75%</th>\n",
       "      <td>13.00000</td>\n",
       "      <td>13524.00000</td>\n",
       "      <td>13371.50000</td>\n",
       "    </tr>\n",
       "    <tr>\n",
       "      <th>max</th>\n",
       "      <td>740.00000</td>\n",
       "      <td>456615.50362</td>\n",
       "      <td>474605.07500</td>\n",
       "    </tr>\n",
       "  </tbody>\n",
       "</table>\n",
       "</div>"
      ],
      "text/plain": [
       "           LOADS  SHIPPER_PRICE (REVENUE)  CARRIER_PRICE (COST)\n",
       "count 1001.00000               1001.00000            1001.00000\n",
       "mean    19.06394              17059.39487           16471.79650\n",
       "std     60.49590              44688.48427           42713.13616\n",
       "min      1.00000                212.50000             159.37500\n",
       "25%      1.00000               1615.00000            1507.00000\n",
       "50%      4.00000               4141.50000            3961.75000\n",
       "75%     13.00000              13524.00000           13371.50000\n",
       "max    740.00000             456615.50362          474605.07500"
      ]
     },
     "execution_count": 60,
     "metadata": {},
     "output_type": "execute_result"
    }
   ],
   "source": [
    "df.describe()"
   ]
  },
  {
   "cell_type": "code",
   "execution_count": 61,
   "metadata": {},
   "outputs": [
    {
     "data": {
      "text/plain": [
       "PICKUP_MONTH                0\n",
       "SHIPPER ID                  0\n",
       "SHIPPER CATEGORY            0\n",
       "LOAD CATEGORY               0\n",
       "ORDER_TYPE                  0\n",
       "DOMESTIC_VS_CROSS_BORDER    0\n",
       "LOADS                       0\n",
       "SHIPPER_PRICE (REVENUE)     0\n",
       "CARRIER_PRICE (COST)        0\n",
       "dtype: int64"
      ]
     },
     "execution_count": 61,
     "metadata": {},
     "output_type": "execute_result"
    }
   ],
   "source": [
    "#Check missing values\n",
    "df.isnull().sum()"
   ]
  },
  {
   "cell_type": "code",
   "execution_count": 62,
   "metadata": {},
   "outputs": [
    {
     "data": {
      "text/plain": [
       "PICKUP_MONTH                  6\n",
       "SHIPPER ID                  191\n",
       "SHIPPER CATEGORY              7\n",
       "LOAD CATEGORY                 2\n",
       "ORDER_TYPE                    2\n",
       "DOMESTIC_VS_CROSS_BORDER      2\n",
       "LOADS                       103\n",
       "SHIPPER_PRICE (REVENUE)     930\n",
       "CARRIER_PRICE (COST)        959\n",
       "dtype: int64"
      ]
     },
     "execution_count": 62,
     "metadata": {},
     "output_type": "execute_result"
    }
   ],
   "source": [
    "#Check number of unique entries per column\n",
    "df.nunique()"
   ]
  },
  {
   "cell_type": "code",
   "execution_count": 63,
   "metadata": {},
   "outputs": [
    {
     "data": {
      "text/plain": [
       "PICKUP_MONTH                0.59940\n",
       "SHIPPER ID                 19.08092\n",
       "SHIPPER CATEGORY            0.69930\n",
       "LOAD CATEGORY               0.19980\n",
       "ORDER_TYPE                  0.19980\n",
       "DOMESTIC_VS_CROSS_BORDER    0.19980\n",
       "LOADS                      10.28971\n",
       "SHIPPER_PRICE (REVENUE)    92.90709\n",
       "CARRIER_PRICE (COST)       95.80420\n",
       "dtype: float64"
      ]
     },
     "execution_count": 63,
     "metadata": {},
     "output_type": "execute_result"
    }
   ],
   "source": [
    "# Percent of unique row entries per column\n",
    "df.nunique() / df.count() * 100"
   ]
  },
  {
   "cell_type": "code",
   "execution_count": 64,
   "metadata": {},
   "outputs": [],
   "source": [
    "# Extract month from Pickup_month\n",
    "df['MONTH'] = df['PICKUP_MONTH'].dt.month\n",
    "#df['MONTH'] = pd.to_datetime(df['PICKUP_MONTH'], format='%m').dt.month_name()"
   ]
  },
  {
   "cell_type": "code",
   "execution_count": 65,
   "metadata": {},
   "outputs": [],
   "source": [
    "# Add profit column\n",
    "df['PROFIT'] =  df['SHIPPER_PRICE (REVENUE)'] - df['CARRIER_PRICE (COST)']"
   ]
  },
  {
   "cell_type": "code",
   "execution_count": 66,
   "metadata": {},
   "outputs": [],
   "source": [
    "# Add avg. profit/load column\n",
    "df['AVG_PROFIT_LOAD'] = df['PROFIT'] / df['LOADS']"
   ]
  },
  {
   "cell_type": "code",
   "execution_count": 67,
   "metadata": {},
   "outputs": [],
   "source": [
    "# Add avg. revenue/load column\n",
    "df['AVG_REV_LOAD'] = df['SHIPPER_PRICE (REVENUE)'] / df['LOADS']"
   ]
  },
  {
   "cell_type": "code",
   "execution_count": 68,
   "metadata": {},
   "outputs": [],
   "source": [
    "# Add avg. exp/load column\n",
    "df['AVG_EXP_LOAD'] = df['CARRIER_PRICE (COST)'] / df['LOADS']"
   ]
  },
  {
   "cell_type": "code",
   "execution_count": 136,
   "metadata": {},
   "outputs": [],
   "source": [
    "df['MARGIN'] = (df['PROFIT'] / df['SHIPPER_PRICE (REVENUE)']) * 100"
   ]
  },
  {
   "cell_type": "markdown",
   "metadata": {},
   "source": [
    "## Exploratory Data Analysis"
   ]
  },
  {
   "cell_type": "code",
   "execution_count": 137,
   "metadata": {},
   "outputs": [
    {
     "data": {
      "text/html": [
       "<div>\n",
       "<style scoped>\n",
       "    .dataframe tbody tr th:only-of-type {\n",
       "        vertical-align: middle;\n",
       "    }\n",
       "\n",
       "    .dataframe tbody tr th {\n",
       "        vertical-align: top;\n",
       "    }\n",
       "\n",
       "    .dataframe thead th {\n",
       "        text-align: right;\n",
       "    }\n",
       "</style>\n",
       "<table border=\"1\" class=\"dataframe\">\n",
       "  <thead>\n",
       "    <tr style=\"text-align: right;\">\n",
       "      <th></th>\n",
       "      <th>PICKUP_MONTH</th>\n",
       "      <th>SHIPPER ID</th>\n",
       "      <th>SHIPPER CATEGORY</th>\n",
       "      <th>LOAD CATEGORY</th>\n",
       "      <th>ORDER_TYPE</th>\n",
       "      <th>DOMESTIC_VS_CROSS_BORDER</th>\n",
       "      <th>LOADS</th>\n",
       "      <th>SHIPPER_PRICE (REVENUE)</th>\n",
       "      <th>CARRIER_PRICE (COST)</th>\n",
       "      <th>MONTH</th>\n",
       "      <th>PROFIT</th>\n",
       "      <th>AVG_PROFIT_LOAD</th>\n",
       "      <th>AVG_REV_LOAD</th>\n",
       "      <th>AVG_EXP_LOAD</th>\n",
       "      <th>MARGIN</th>\n",
       "    </tr>\n",
       "  </thead>\n",
       "  <tbody>\n",
       "    <tr>\n",
       "      <th>0</th>\n",
       "      <td>2020-01-01</td>\n",
       "      <td>0010O00001vmYzfQAE</td>\n",
       "      <td>Food &amp; Beverages</td>\n",
       "      <td>PLATFORM</td>\n",
       "      <td>CONTRACT</td>\n",
       "      <td>domestic</td>\n",
       "      <td>141</td>\n",
       "      <td>106909.44813</td>\n",
       "      <td>107080.23750</td>\n",
       "      <td>1</td>\n",
       "      <td>-170.78937</td>\n",
       "      <td>-1.21127</td>\n",
       "      <td>758.22304</td>\n",
       "      <td>759.43431</td>\n",
       "      <td>-0.15975</td>\n",
       "    </tr>\n",
       "    <tr>\n",
       "      <th>1</th>\n",
       "      <td>2020-01-01</td>\n",
       "      <td>0010O00002M1P8nQAF</td>\n",
       "      <td>Industrial materials</td>\n",
       "      <td>PLATFORM</td>\n",
       "      <td>CONTRACT</td>\n",
       "      <td>cross-border</td>\n",
       "      <td>1</td>\n",
       "      <td>2702.50000</td>\n",
       "      <td>2300.00000</td>\n",
       "      <td>1</td>\n",
       "      <td>402.50000</td>\n",
       "      <td>402.50000</td>\n",
       "      <td>2702.50000</td>\n",
       "      <td>2300.00000</td>\n",
       "      <td>14.89362</td>\n",
       "    </tr>\n",
       "    <tr>\n",
       "      <th>2</th>\n",
       "      <td>2020-01-01</td>\n",
       "      <td>0013Y00002UjLn1QAF</td>\n",
       "      <td>Industrial materials</td>\n",
       "      <td>PLATFORM</td>\n",
       "      <td>SPOT</td>\n",
       "      <td>cross-border</td>\n",
       "      <td>1</td>\n",
       "      <td>1091.25000</td>\n",
       "      <td>1030.62500</td>\n",
       "      <td>1</td>\n",
       "      <td>60.62500</td>\n",
       "      <td>60.62500</td>\n",
       "      <td>1091.25000</td>\n",
       "      <td>1030.62500</td>\n",
       "      <td>5.55556</td>\n",
       "    </tr>\n",
       "    <tr>\n",
       "      <th>3</th>\n",
       "      <td>2020-01-01</td>\n",
       "      <td>0010O00002Bji22QAB</td>\n",
       "      <td>Other Manufacturing</td>\n",
       "      <td>PLATFORM</td>\n",
       "      <td>SPOT</td>\n",
       "      <td>cross-border</td>\n",
       "      <td>5</td>\n",
       "      <td>13051.25000</td>\n",
       "      <td>10361.50000</td>\n",
       "      <td>1</td>\n",
       "      <td>2689.75000</td>\n",
       "      <td>537.95000</td>\n",
       "      <td>2610.25000</td>\n",
       "      <td>2072.30000</td>\n",
       "      <td>20.60914</td>\n",
       "    </tr>\n",
       "    <tr>\n",
       "      <th>4</th>\n",
       "      <td>2020-01-01</td>\n",
       "      <td>0013Y00002UkaqeQAB</td>\n",
       "      <td>Food &amp; Beverages</td>\n",
       "      <td>PLATFORM</td>\n",
       "      <td>CONTRACT</td>\n",
       "      <td>cross-border</td>\n",
       "      <td>1</td>\n",
       "      <td>2227.50000</td>\n",
       "      <td>2014.87500</td>\n",
       "      <td>1</td>\n",
       "      <td>212.62500</td>\n",
       "      <td>212.62500</td>\n",
       "      <td>2227.50000</td>\n",
       "      <td>2014.87500</td>\n",
       "      <td>9.54545</td>\n",
       "    </tr>\n",
       "  </tbody>\n",
       "</table>\n",
       "</div>"
      ],
      "text/plain": [
       "  PICKUP_MONTH          SHIPPER ID      SHIPPER CATEGORY LOAD CATEGORY  \\\n",
       "0   2020-01-01  0010O00001vmYzfQAE      Food & Beverages      PLATFORM   \n",
       "1   2020-01-01  0010O00002M1P8nQAF  Industrial materials      PLATFORM   \n",
       "2   2020-01-01  0013Y00002UjLn1QAF  Industrial materials      PLATFORM   \n",
       "3   2020-01-01  0010O00002Bji22QAB   Other Manufacturing      PLATFORM   \n",
       "4   2020-01-01  0013Y00002UkaqeQAB      Food & Beverages      PLATFORM   \n",
       "\n",
       "  ORDER_TYPE DOMESTIC_VS_CROSS_BORDER  LOADS  SHIPPER_PRICE (REVENUE)  \\\n",
       "0   CONTRACT                 domestic    141             106909.44813   \n",
       "1   CONTRACT             cross-border      1               2702.50000   \n",
       "2       SPOT             cross-border      1               1091.25000   \n",
       "3       SPOT             cross-border      5              13051.25000   \n",
       "4   CONTRACT             cross-border      1               2227.50000   \n",
       "\n",
       "   CARRIER_PRICE (COST)  MONTH     PROFIT  AVG_PROFIT_LOAD  AVG_REV_LOAD  \\\n",
       "0          107080.23750      1 -170.78937         -1.21127     758.22304   \n",
       "1            2300.00000      1  402.50000        402.50000    2702.50000   \n",
       "2            1030.62500      1   60.62500         60.62500    1091.25000   \n",
       "3           10361.50000      1 2689.75000        537.95000    2610.25000   \n",
       "4            2014.87500      1  212.62500        212.62500    2227.50000   \n",
       "\n",
       "   AVG_EXP_LOAD   MARGIN  \n",
       "0     759.43431 -0.15975  \n",
       "1    2300.00000 14.89362  \n",
       "2    1030.62500  5.55556  \n",
       "3    2072.30000 20.60914  \n",
       "4    2014.87500  9.54545  "
      ]
     },
     "execution_count": 137,
     "metadata": {},
     "output_type": "execute_result"
    }
   ],
   "source": [
    "df.head()"
   ]
  },
  {
   "cell_type": "markdown",
   "metadata": {},
   "source": [
    "## Initial thoughts\n",
    "1. Are IDs unique or multiple loads per ID\n",
    "2. Which category has most loads, most profitable, most expenses\n",
    "3. Which category has most laods, most profitbale, most expenses\n",
    "4. Which order type has most laods, most profitable, most expenses\n",
    "5. Domestic or cross-border most loads, profitbale, expensive\n",
    "6. Can check retention of customers month-to-month, quarter-to-quarter\n",
    "7. Compare price per trip so get contract vs spot individual pricing, perhaps spots are more lucrative?"
   ]
  },
  {
   "cell_type": "code",
   "execution_count": null,
   "metadata": {},
   "outputs": [],
   "source": [
    "# Seperate data into Q1 and Q2 - Month 1,2,3 = Q1"
   ]
  },
  {
   "cell_type": "code",
   "execution_count": 138,
   "metadata": {},
   "outputs": [],
   "source": [
    "q1 = df[df['MONTH'] < 4]"
   ]
  },
  {
   "cell_type": "code",
   "execution_count": 139,
   "metadata": {},
   "outputs": [
    {
     "data": {
      "text/plain": [
       "3    170\n",
       "2    144\n",
       "1    129\n",
       "Name: MONTH, dtype: int64"
      ]
     },
     "execution_count": 139,
     "metadata": {},
     "output_type": "execute_result"
    }
   ],
   "source": [
    "# check dataframe separated correctly\n",
    "q1['MONTH'].value_counts()"
   ]
  },
  {
   "cell_type": "code",
   "execution_count": 140,
   "metadata": {},
   "outputs": [],
   "source": [
    "q2 = df[df['MONTH'] > 3]"
   ]
  },
  {
   "cell_type": "code",
   "execution_count": 141,
   "metadata": {},
   "outputs": [
    {
     "data": {
      "text/plain": [
       "6    209\n",
       "5    178\n",
       "4    171\n",
       "Name: MONTH, dtype: int64"
      ]
     },
     "execution_count": 141,
     "metadata": {},
     "output_type": "execute_result"
    }
   ],
   "source": [
    "q2['MONTH'].value_counts()"
   ]
  },
  {
   "cell_type": "code",
   "execution_count": 142,
   "metadata": {},
   "outputs": [],
   "source": [
    "# Sense check that total rows of df = q1 + q2"
   ]
  },
  {
   "cell_type": "code",
   "execution_count": 143,
   "metadata": {},
   "outputs": [
    {
     "data": {
      "text/plain": [
       "PICKUP_MONTH                1001\n",
       "SHIPPER ID                  1001\n",
       "SHIPPER CATEGORY            1001\n",
       "LOAD CATEGORY               1001\n",
       "ORDER_TYPE                  1001\n",
       "DOMESTIC_VS_CROSS_BORDER    1001\n",
       "LOADS                       1001\n",
       "SHIPPER_PRICE (REVENUE)     1001\n",
       "CARRIER_PRICE (COST)        1001\n",
       "MONTH                       1001\n",
       "PROFIT                      1001\n",
       "AVG_PROFIT_LOAD             1001\n",
       "AVG_REV_LOAD                1001\n",
       "AVG_EXP_LOAD                1001\n",
       "MARGIN                      1001\n",
       "dtype: int64"
      ]
     },
     "execution_count": 143,
     "metadata": {},
     "output_type": "execute_result"
    }
   ],
   "source": [
    "q1.count() + q2.count()"
   ]
  },
  {
   "cell_type": "markdown",
   "metadata": {},
   "source": [
    "## Q1 2020 Analysis"
   ]
  },
  {
   "cell_type": "code",
   "execution_count": 144,
   "metadata": {},
   "outputs": [
    {
     "data": {
      "text/html": [
       "<div>\n",
       "<style scoped>\n",
       "    .dataframe tbody tr th:only-of-type {\n",
       "        vertical-align: middle;\n",
       "    }\n",
       "\n",
       "    .dataframe tbody tr th {\n",
       "        vertical-align: top;\n",
       "    }\n",
       "\n",
       "    .dataframe thead th {\n",
       "        text-align: right;\n",
       "    }\n",
       "</style>\n",
       "<table border=\"1\" class=\"dataframe\">\n",
       "  <thead>\n",
       "    <tr style=\"text-align: right;\">\n",
       "      <th></th>\n",
       "      <th>PICKUP_MONTH</th>\n",
       "      <th>SHIPPER ID</th>\n",
       "      <th>SHIPPER CATEGORY</th>\n",
       "      <th>LOAD CATEGORY</th>\n",
       "      <th>ORDER_TYPE</th>\n",
       "      <th>DOMESTIC_VS_CROSS_BORDER</th>\n",
       "      <th>LOADS</th>\n",
       "      <th>SHIPPER_PRICE (REVENUE)</th>\n",
       "      <th>CARRIER_PRICE (COST)</th>\n",
       "      <th>MONTH</th>\n",
       "      <th>PROFIT</th>\n",
       "      <th>AVG_PROFIT_LOAD</th>\n",
       "      <th>AVG_REV_LOAD</th>\n",
       "      <th>AVG_EXP_LOAD</th>\n",
       "      <th>MARGIN</th>\n",
       "    </tr>\n",
       "  </thead>\n",
       "  <tbody>\n",
       "    <tr>\n",
       "      <th>0</th>\n",
       "      <td>2020-01-01</td>\n",
       "      <td>0010O00001vmYzfQAE</td>\n",
       "      <td>Food &amp; Beverages</td>\n",
       "      <td>PLATFORM</td>\n",
       "      <td>CONTRACT</td>\n",
       "      <td>domestic</td>\n",
       "      <td>141</td>\n",
       "      <td>106909.44813</td>\n",
       "      <td>107080.23750</td>\n",
       "      <td>1</td>\n",
       "      <td>-170.78937</td>\n",
       "      <td>-1.21127</td>\n",
       "      <td>758.22304</td>\n",
       "      <td>759.43431</td>\n",
       "      <td>-0.15975</td>\n",
       "    </tr>\n",
       "    <tr>\n",
       "      <th>1</th>\n",
       "      <td>2020-01-01</td>\n",
       "      <td>0010O00002M1P8nQAF</td>\n",
       "      <td>Industrial materials</td>\n",
       "      <td>PLATFORM</td>\n",
       "      <td>CONTRACT</td>\n",
       "      <td>cross-border</td>\n",
       "      <td>1</td>\n",
       "      <td>2702.50000</td>\n",
       "      <td>2300.00000</td>\n",
       "      <td>1</td>\n",
       "      <td>402.50000</td>\n",
       "      <td>402.50000</td>\n",
       "      <td>2702.50000</td>\n",
       "      <td>2300.00000</td>\n",
       "      <td>14.89362</td>\n",
       "    </tr>\n",
       "    <tr>\n",
       "      <th>2</th>\n",
       "      <td>2020-01-01</td>\n",
       "      <td>0013Y00002UjLn1QAF</td>\n",
       "      <td>Industrial materials</td>\n",
       "      <td>PLATFORM</td>\n",
       "      <td>SPOT</td>\n",
       "      <td>cross-border</td>\n",
       "      <td>1</td>\n",
       "      <td>1091.25000</td>\n",
       "      <td>1030.62500</td>\n",
       "      <td>1</td>\n",
       "      <td>60.62500</td>\n",
       "      <td>60.62500</td>\n",
       "      <td>1091.25000</td>\n",
       "      <td>1030.62500</td>\n",
       "      <td>5.55556</td>\n",
       "    </tr>\n",
       "    <tr>\n",
       "      <th>3</th>\n",
       "      <td>2020-01-01</td>\n",
       "      <td>0010O00002Bji22QAB</td>\n",
       "      <td>Other Manufacturing</td>\n",
       "      <td>PLATFORM</td>\n",
       "      <td>SPOT</td>\n",
       "      <td>cross-border</td>\n",
       "      <td>5</td>\n",
       "      <td>13051.25000</td>\n",
       "      <td>10361.50000</td>\n",
       "      <td>1</td>\n",
       "      <td>2689.75000</td>\n",
       "      <td>537.95000</td>\n",
       "      <td>2610.25000</td>\n",
       "      <td>2072.30000</td>\n",
       "      <td>20.60914</td>\n",
       "    </tr>\n",
       "    <tr>\n",
       "      <th>4</th>\n",
       "      <td>2020-01-01</td>\n",
       "      <td>0013Y00002UkaqeQAB</td>\n",
       "      <td>Food &amp; Beverages</td>\n",
       "      <td>PLATFORM</td>\n",
       "      <td>CONTRACT</td>\n",
       "      <td>cross-border</td>\n",
       "      <td>1</td>\n",
       "      <td>2227.50000</td>\n",
       "      <td>2014.87500</td>\n",
       "      <td>1</td>\n",
       "      <td>212.62500</td>\n",
       "      <td>212.62500</td>\n",
       "      <td>2227.50000</td>\n",
       "      <td>2014.87500</td>\n",
       "      <td>9.54545</td>\n",
       "    </tr>\n",
       "  </tbody>\n",
       "</table>\n",
       "</div>"
      ],
      "text/plain": [
       "  PICKUP_MONTH          SHIPPER ID      SHIPPER CATEGORY LOAD CATEGORY  \\\n",
       "0   2020-01-01  0010O00001vmYzfQAE      Food & Beverages      PLATFORM   \n",
       "1   2020-01-01  0010O00002M1P8nQAF  Industrial materials      PLATFORM   \n",
       "2   2020-01-01  0013Y00002UjLn1QAF  Industrial materials      PLATFORM   \n",
       "3   2020-01-01  0010O00002Bji22QAB   Other Manufacturing      PLATFORM   \n",
       "4   2020-01-01  0013Y00002UkaqeQAB      Food & Beverages      PLATFORM   \n",
       "\n",
       "  ORDER_TYPE DOMESTIC_VS_CROSS_BORDER  LOADS  SHIPPER_PRICE (REVENUE)  \\\n",
       "0   CONTRACT                 domestic    141             106909.44813   \n",
       "1   CONTRACT             cross-border      1               2702.50000   \n",
       "2       SPOT             cross-border      1               1091.25000   \n",
       "3       SPOT             cross-border      5              13051.25000   \n",
       "4   CONTRACT             cross-border      1               2227.50000   \n",
       "\n",
       "   CARRIER_PRICE (COST)  MONTH     PROFIT  AVG_PROFIT_LOAD  AVG_REV_LOAD  \\\n",
       "0          107080.23750      1 -170.78937         -1.21127     758.22304   \n",
       "1            2300.00000      1  402.50000        402.50000    2702.50000   \n",
       "2            1030.62500      1   60.62500         60.62500    1091.25000   \n",
       "3           10361.50000      1 2689.75000        537.95000    2610.25000   \n",
       "4            2014.87500      1  212.62500        212.62500    2227.50000   \n",
       "\n",
       "   AVG_EXP_LOAD   MARGIN  \n",
       "0     759.43431 -0.15975  \n",
       "1    2300.00000 14.89362  \n",
       "2    1030.62500  5.55556  \n",
       "3    2072.30000 20.60914  \n",
       "4    2014.87500  9.54545  "
      ]
     },
     "execution_count": 144,
     "metadata": {},
     "output_type": "execute_result"
    }
   ],
   "source": [
    "q1.head()"
   ]
  },
  {
   "cell_type": "code",
   "execution_count": 145,
   "metadata": {},
   "outputs": [
    {
     "name": "stdout",
     "output_type": "stream",
     "text": [
      "<class 'pandas.core.frame.DataFrame'>\n",
      "Int64Index: 443 entries, 0 to 442\n",
      "Data columns (total 15 columns):\n",
      " #   Column                    Non-Null Count  Dtype         \n",
      "---  ------                    --------------  -----         \n",
      " 0   PICKUP_MONTH              443 non-null    datetime64[ns]\n",
      " 1   SHIPPER ID                443 non-null    object        \n",
      " 2   SHIPPER CATEGORY          443 non-null    object        \n",
      " 3   LOAD CATEGORY             443 non-null    object        \n",
      " 4   ORDER_TYPE                443 non-null    object        \n",
      " 5   DOMESTIC_VS_CROSS_BORDER  443 non-null    object        \n",
      " 6   LOADS                     443 non-null    int64         \n",
      " 7   SHIPPER_PRICE (REVENUE)   443 non-null    float64       \n",
      " 8   CARRIER_PRICE (COST)      443 non-null    float64       \n",
      " 9   MONTH                     443 non-null    int64         \n",
      " 10  PROFIT                    443 non-null    float64       \n",
      " 11  AVG_PROFIT_LOAD           443 non-null    float64       \n",
      " 12  AVG_REV_LOAD              443 non-null    float64       \n",
      " 13  AVG_EXP_LOAD              443 non-null    float64       \n",
      " 14  MARGIN                    443 non-null    float64       \n",
      "dtypes: datetime64[ns](1), float64(7), int64(2), object(5)\n",
      "memory usage: 55.4+ KB\n"
     ]
    }
   ],
   "source": [
    "q1.info()"
   ]
  },
  {
   "cell_type": "code",
   "execution_count": 146,
   "metadata": {},
   "outputs": [
    {
     "data": {
      "text/html": [
       "<div>\n",
       "<style scoped>\n",
       "    .dataframe tbody tr th:only-of-type {\n",
       "        vertical-align: middle;\n",
       "    }\n",
       "\n",
       "    .dataframe tbody tr th {\n",
       "        vertical-align: top;\n",
       "    }\n",
       "\n",
       "    .dataframe thead th {\n",
       "        text-align: right;\n",
       "    }\n",
       "</style>\n",
       "<table border=\"1\" class=\"dataframe\">\n",
       "  <thead>\n",
       "    <tr style=\"text-align: right;\">\n",
       "      <th></th>\n",
       "      <th>LOADS</th>\n",
       "      <th>SHIPPER_PRICE (REVENUE)</th>\n",
       "      <th>CARRIER_PRICE (COST)</th>\n",
       "      <th>MONTH</th>\n",
       "      <th>PROFIT</th>\n",
       "      <th>AVG_PROFIT_LOAD</th>\n",
       "      <th>AVG_REV_LOAD</th>\n",
       "      <th>AVG_EXP_LOAD</th>\n",
       "      <th>MARGIN</th>\n",
       "    </tr>\n",
       "  </thead>\n",
       "  <tbody>\n",
       "    <tr>\n",
       "      <th>count</th>\n",
       "      <td>443.00000</td>\n",
       "      <td>443.00000</td>\n",
       "      <td>443.00000</td>\n",
       "      <td>443.00000</td>\n",
       "      <td>443.00000</td>\n",
       "      <td>443.00000</td>\n",
       "      <td>443.00000</td>\n",
       "      <td>443.00000</td>\n",
       "      <td>443.00000</td>\n",
       "    </tr>\n",
       "    <tr>\n",
       "      <th>mean</th>\n",
       "      <td>22.77878</td>\n",
       "      <td>19954.05268</td>\n",
       "      <td>19865.00562</td>\n",
       "      <td>2.09255</td>\n",
       "      <td>89.04706</td>\n",
       "      <td>-9.87972</td>\n",
       "      <td>1249.75084</td>\n",
       "      <td>1259.63056</td>\n",
       "      <td>-0.64377</td>\n",
       "    </tr>\n",
       "    <tr>\n",
       "      <th>std</th>\n",
       "      <td>75.43923</td>\n",
       "      <td>50746.81775</td>\n",
       "      <td>49709.08573</td>\n",
       "      <td>0.81724</td>\n",
       "      <td>5905.65986</td>\n",
       "      <td>182.48570</td>\n",
       "      <td>736.67226</td>\n",
       "      <td>762.07130</td>\n",
       "      <td>13.77281</td>\n",
       "    </tr>\n",
       "    <tr>\n",
       "      <th>min</th>\n",
       "      <td>1.00000</td>\n",
       "      <td>344.66250</td>\n",
       "      <td>341.25000</td>\n",
       "      <td>1.00000</td>\n",
       "      <td>-47862.58125</td>\n",
       "      <td>-939.31250</td>\n",
       "      <td>267.54429</td>\n",
       "      <td>223.12500</td>\n",
       "      <td>-71.17117</td>\n",
       "    </tr>\n",
       "    <tr>\n",
       "      <th>25%</th>\n",
       "      <td>2.00000</td>\n",
       "      <td>1941.28125</td>\n",
       "      <td>1941.00000</td>\n",
       "      <td>1.00000</td>\n",
       "      <td>-319.12500</td>\n",
       "      <td>-61.45002</td>\n",
       "      <td>701.30469</td>\n",
       "      <td>683.66265</td>\n",
       "      <td>-5.29115</td>\n",
       "    </tr>\n",
       "    <tr>\n",
       "      <th>50%</th>\n",
       "      <td>5.00000</td>\n",
       "      <td>5395.50000</td>\n",
       "      <td>5212.50000</td>\n",
       "      <td>2.00000</td>\n",
       "      <td>43.96800</td>\n",
       "      <td>16.74569</td>\n",
       "      <td>1067.00000</td>\n",
       "      <td>1058.50000</td>\n",
       "      <td>1.98327</td>\n",
       "    </tr>\n",
       "    <tr>\n",
       "      <th>75%</th>\n",
       "      <td>17.00000</td>\n",
       "      <td>18367.18750</td>\n",
       "      <td>18541.87500</td>\n",
       "      <td>3.00000</td>\n",
       "      <td>338.09544</td>\n",
       "      <td>61.95577</td>\n",
       "      <td>1600.30949</td>\n",
       "      <td>1641.00263</td>\n",
       "      <td>5.61264</td>\n",
       "    </tr>\n",
       "    <tr>\n",
       "      <th>max</th>\n",
       "      <td>740.00000</td>\n",
       "      <td>456615.50362</td>\n",
       "      <td>474605.07500</td>\n",
       "      <td>3.00000</td>\n",
       "      <td>85032.10875</td>\n",
       "      <td>634.37500</td>\n",
       "      <td>4410.00000</td>\n",
       "      <td>4230.00000</td>\n",
       "      <td>53.15315</td>\n",
       "    </tr>\n",
       "  </tbody>\n",
       "</table>\n",
       "</div>"
      ],
      "text/plain": [
       "          LOADS  SHIPPER_PRICE (REVENUE)  CARRIER_PRICE (COST)     MONTH  \\\n",
       "count 443.00000                443.00000             443.00000 443.00000   \n",
       "mean   22.77878              19954.05268           19865.00562   2.09255   \n",
       "std    75.43923              50746.81775           49709.08573   0.81724   \n",
       "min     1.00000                344.66250             341.25000   1.00000   \n",
       "25%     2.00000               1941.28125            1941.00000   1.00000   \n",
       "50%     5.00000               5395.50000            5212.50000   2.00000   \n",
       "75%    17.00000              18367.18750           18541.87500   3.00000   \n",
       "max   740.00000             456615.50362          474605.07500   3.00000   \n",
       "\n",
       "            PROFIT  AVG_PROFIT_LOAD  AVG_REV_LOAD  AVG_EXP_LOAD    MARGIN  \n",
       "count    443.00000        443.00000     443.00000     443.00000 443.00000  \n",
       "mean      89.04706         -9.87972    1249.75084    1259.63056  -0.64377  \n",
       "std     5905.65986        182.48570     736.67226     762.07130  13.77281  \n",
       "min   -47862.58125       -939.31250     267.54429     223.12500 -71.17117  \n",
       "25%     -319.12500        -61.45002     701.30469     683.66265  -5.29115  \n",
       "50%       43.96800         16.74569    1067.00000    1058.50000   1.98327  \n",
       "75%      338.09544         61.95577    1600.30949    1641.00263   5.61264  \n",
       "max    85032.10875        634.37500    4410.00000    4230.00000  53.15315  "
      ]
     },
     "execution_count": 146,
     "metadata": {},
     "output_type": "execute_result"
    }
   ],
   "source": [
    "q1.describe()"
   ]
  },
  {
   "cell_type": "markdown",
   "metadata": {},
   "source": [
    "## Key business figures"
   ]
  },
  {
   "cell_type": "code",
   "execution_count": 147,
   "metadata": {},
   "outputs": [
    {
     "data": {
      "text/plain": [
       "PROFIT                      39447.84775\n",
       "SHIPPER_PRICE (REVENUE)   8839645.33875\n",
       "CARRIER_PRICE (COST)      8800197.49100\n",
       "LOADS                       10091.00000\n",
       "dtype: float64"
      ]
     },
     "execution_count": 147,
     "metadata": {},
     "output_type": "execute_result"
    }
   ],
   "source": [
    "# check total revenue, cost, profit, volume\n",
    "cols = ['PROFIT','SHIPPER_PRICE (REVENUE)','CARRIER_PRICE (COST)','LOADS']\n",
    "q1[cols].sum()"
   ]
  },
  {
   "cell_type": "code",
   "execution_count": 148,
   "metadata": {},
   "outputs": [
    {
     "name": "stdout",
     "output_type": "stream",
     "text": [
      "0.44626052560133994\n"
     ]
    }
   ],
   "source": [
    "margin = q1['PROFIT'].sum() / q1['SHIPPER_PRICE (REVENUE)'].sum() * 100\n",
    "print(margin)"
   ]
  },
  {
   "cell_type": "code",
   "execution_count": 149,
   "metadata": {},
   "outputs": [
    {
     "data": {
      "text/plain": [
       "10091"
      ]
     },
     "execution_count": 149,
     "metadata": {},
     "output_type": "execute_result"
    }
   ],
   "source": [
    "q1['LOADS'].sum()"
   ]
  },
  {
   "cell_type": "code",
   "execution_count": 150,
   "metadata": {},
   "outputs": [
    {
     "data": {
      "text/plain": [
       "SHIPPER ID                  0010O00001vmYzfQAE0010O00002M1P8nQAF0013Y00002...\n",
       "SHIPPER CATEGORY            Food & BeveragesIndustrial materialsFood & Bev...\n",
       "LOAD CATEGORY               PLATFORMPLATFORMPLATFORMPLATFORMPLATFORMPLATFO...\n",
       "ORDER_TYPE                  CONTRACTCONTRACTCONTRACTCONTRACTCONTRACTCONTRA...\n",
       "DOMESTIC_VS_CROSS_BORDER    domesticcross-bordercross-bordercross-bordercr...\n",
       "LOADS                                                                    9672\n",
       "SHIPPER_PRICE (REVENUE)                                         8429324.88075\n",
       "CARRIER_PRICE (COST)                                            8405305.86375\n",
       "MONTH                                                                     741\n",
       "PROFIT                                                            24019.01700\n",
       "AVG_PROFIT_LOAD                                                   -8065.54166\n",
       "AVG_REV_LOAD                                                     459728.21799\n",
       "AVG_EXP_LOAD                                                     467793.75965\n",
       "MARGIN                                                             -590.28469\n",
       "dtype: object"
      ]
     },
     "execution_count": 150,
     "metadata": {},
     "output_type": "execute_result"
    }
   ],
   "source": [
    "q1[q1['ORDER_TYPE']=='CONTRACT'].sum()"
   ]
  },
  {
   "cell_type": "code",
   "execution_count": 151,
   "metadata": {},
   "outputs": [
    {
     "data": {
      "text/plain": [
       "PICKUP_MONTH                359\n",
       "SHIPPER ID                  359\n",
       "SHIPPER CATEGORY            359\n",
       "LOAD CATEGORY               359\n",
       "ORDER_TYPE                  359\n",
       "DOMESTIC_VS_CROSS_BORDER    359\n",
       "LOADS                       359\n",
       "SHIPPER_PRICE (REVENUE)     359\n",
       "CARRIER_PRICE (COST)        359\n",
       "MONTH                       359\n",
       "PROFIT                      359\n",
       "AVG_PROFIT_LOAD             359\n",
       "AVG_REV_LOAD                359\n",
       "AVG_EXP_LOAD                359\n",
       "MARGIN                      359\n",
       "dtype: int64"
      ]
     },
     "execution_count": 151,
     "metadata": {},
     "output_type": "execute_result"
    }
   ],
   "source": [
    "q1[q1['ORDER_TYPE']=='CONTRACT'].count()"
   ]
  },
  {
   "cell_type": "code",
   "execution_count": 152,
   "metadata": {},
   "outputs": [
    {
     "data": {
      "text/plain": [
       "SHIPPER ID                  0013Y00002UjLn1QAF0010O00002Bji22QAB0013Y00002...\n",
       "SHIPPER CATEGORY            Industrial materialsOther ManufacturingFood & ...\n",
       "LOAD CATEGORY               PLATFORMPLATFORMPLATFORMMANUALMANUALPLATFORMPL...\n",
       "ORDER_TYPE                  SPOTSPOTSPOTSPOTSPOTSPOTSPOTSPOTSPOTSPOTSPOTSP...\n",
       "DOMESTIC_VS_CROSS_BORDER    cross-bordercross-borderdomesticcross-borderdo...\n",
       "LOADS                                                                     419\n",
       "SHIPPER_PRICE (REVENUE)                                          410320.45800\n",
       "CARRIER_PRICE (COST)                                             394891.62725\n",
       "MONTH                                                                     186\n",
       "PROFIT                                                            15428.83075\n",
       "AVG_PROFIT_LOAD                                                    3688.82420\n",
       "AVG_REV_LOAD                                                      93911.40223\n",
       "AVG_EXP_LOAD                                                      90222.57803\n",
       "MARGIN                                                              305.09595\n",
       "dtype: object"
      ]
     },
     "execution_count": 152,
     "metadata": {},
     "output_type": "execute_result"
    }
   ],
   "source": [
    "q1[q1['ORDER_TYPE']=='SPOT'].sum()"
   ]
  },
  {
   "cell_type": "code",
   "execution_count": 153,
   "metadata": {},
   "outputs": [
    {
     "data": {
      "text/plain": [
       "PICKUP_MONTH                84\n",
       "SHIPPER ID                  84\n",
       "SHIPPER CATEGORY            84\n",
       "LOAD CATEGORY               84\n",
       "ORDER_TYPE                  84\n",
       "DOMESTIC_VS_CROSS_BORDER    84\n",
       "LOADS                       84\n",
       "SHIPPER_PRICE (REVENUE)     84\n",
       "CARRIER_PRICE (COST)        84\n",
       "MONTH                       84\n",
       "PROFIT                      84\n",
       "AVG_PROFIT_LOAD             84\n",
       "AVG_REV_LOAD                84\n",
       "AVG_EXP_LOAD                84\n",
       "MARGIN                      84\n",
       "dtype: int64"
      ]
     },
     "execution_count": 153,
     "metadata": {},
     "output_type": "execute_result"
    }
   ],
   "source": [
    "q1[q1['ORDER_TYPE']=='SPOT'].count()"
   ]
  },
  {
   "cell_type": "code",
   "execution_count": 154,
   "metadata": {},
   "outputs": [
    {
     "data": {
      "text/plain": [
       "443"
      ]
     },
     "execution_count": 154,
     "metadata": {},
     "output_type": "execute_result"
    }
   ],
   "source": [
    "q1['SHIPPER ID'].count()"
   ]
  },
  {
   "cell_type": "code",
   "execution_count": 155,
   "metadata": {},
   "outputs": [
    {
     "name": "stdout",
     "output_type": "stream",
     "text": [
      "131\n"
     ]
    }
   ],
   "source": [
    "active_customers = q1['SHIPPER ID'].nunique()\n",
    "print(active_customers)"
   ]
  },
  {
   "cell_type": "code",
   "execution_count": 156,
   "metadata": {},
   "outputs": [
    {
     "name": "stdout",
     "output_type": "stream",
     "text": [
      "MONTH\n",
      "1     81\n",
      "2     96\n",
      "3    104\n",
      "Name: SHIPPER ID, dtype: int64\n"
     ]
    }
   ],
   "source": [
    "active_customers_month = q1.groupby('MONTH')['SHIPPER ID'].nunique()\n",
    "print(active_customers_month)"
   ]
  },
  {
   "cell_type": "code",
   "execution_count": 157,
   "metadata": {},
   "outputs": [],
   "source": [
    "unique_customers = q1.groupby('SHIPPER ID')"
   ]
  },
  {
   "cell_type": "code",
   "execution_count": 158,
   "metadata": {},
   "outputs": [
    {
     "data": {
      "text/html": [
       "<div>\n",
       "<style scoped>\n",
       "    .dataframe tbody tr th:only-of-type {\n",
       "        vertical-align: middle;\n",
       "    }\n",
       "\n",
       "    .dataframe tbody tr th {\n",
       "        vertical-align: top;\n",
       "    }\n",
       "\n",
       "    .dataframe thead th {\n",
       "        text-align: right;\n",
       "    }\n",
       "</style>\n",
       "<table border=\"1\" class=\"dataframe\">\n",
       "  <thead>\n",
       "    <tr style=\"text-align: right;\">\n",
       "      <th></th>\n",
       "      <th>PICKUP_MONTH</th>\n",
       "      <th>SHIPPER CATEGORY</th>\n",
       "      <th>LOAD CATEGORY</th>\n",
       "      <th>ORDER_TYPE</th>\n",
       "      <th>DOMESTIC_VS_CROSS_BORDER</th>\n",
       "      <th>LOADS</th>\n",
       "      <th>SHIPPER_PRICE (REVENUE)</th>\n",
       "      <th>CARRIER_PRICE (COST)</th>\n",
       "      <th>MONTH</th>\n",
       "      <th>PROFIT</th>\n",
       "      <th>AVG_PROFIT_LOAD</th>\n",
       "      <th>AVG_REV_LOAD</th>\n",
       "      <th>AVG_EXP_LOAD</th>\n",
       "      <th>MARGIN</th>\n",
       "    </tr>\n",
       "    <tr>\n",
       "      <th>SHIPPER ID</th>\n",
       "      <th></th>\n",
       "      <th></th>\n",
       "      <th></th>\n",
       "      <th></th>\n",
       "      <th></th>\n",
       "      <th></th>\n",
       "      <th></th>\n",
       "      <th></th>\n",
       "      <th></th>\n",
       "      <th></th>\n",
       "      <th></th>\n",
       "      <th></th>\n",
       "      <th></th>\n",
       "      <th></th>\n",
       "    </tr>\n",
       "  </thead>\n",
       "  <tbody>\n",
       "    <tr>\n",
       "      <th>0010O00001vmYzfQAE</th>\n",
       "      <td>2020-03-01</td>\n",
       "      <td>Food &amp; Beverages</td>\n",
       "      <td>PLATFORM</td>\n",
       "      <td>CONTRACT</td>\n",
       "      <td>domestic</td>\n",
       "      <td>740</td>\n",
       "      <td>426742.49375</td>\n",
       "      <td>474605.07500</td>\n",
       "      <td>3</td>\n",
       "      <td>18318.19938</td>\n",
       "      <td>36.14394</td>\n",
       "      <td>758.22304</td>\n",
       "      <td>759.43431</td>\n",
       "      <td>5.61677</td>\n",
       "    </tr>\n",
       "    <tr>\n",
       "      <th>0010O00002IfhmrQAB</th>\n",
       "      <td>2020-03-01</td>\n",
       "      <td>Hospitality</td>\n",
       "      <td>PLATFORM</td>\n",
       "      <td>SPOT</td>\n",
       "      <td>domestic</td>\n",
       "      <td>726</td>\n",
       "      <td>456615.50362</td>\n",
       "      <td>371583.39487</td>\n",
       "      <td>3</td>\n",
       "      <td>85032.10875</td>\n",
       "      <td>398.15625</td>\n",
       "      <td>3359.62500</td>\n",
       "      <td>2961.46875</td>\n",
       "      <td>32.15661</td>\n",
       "    </tr>\n",
       "    <tr>\n",
       "      <th>0010O00002BjhzcQAB</th>\n",
       "      <td>2020-03-01</td>\n",
       "      <td>Food &amp; Beverages</td>\n",
       "      <td>PLATFORM</td>\n",
       "      <td>SPOT</td>\n",
       "      <td>domestic</td>\n",
       "      <td>300</td>\n",
       "      <td>307004.53425</td>\n",
       "      <td>289786.12500</td>\n",
       "      <td>3</td>\n",
       "      <td>17218.40925</td>\n",
       "      <td>147.90000</td>\n",
       "      <td>1153.52679</td>\n",
       "      <td>1127.67536</td>\n",
       "      <td>15.11111</td>\n",
       "    </tr>\n",
       "    <tr>\n",
       "      <th>0010O00002BF1aSQAT</th>\n",
       "      <td>2020-03-01</td>\n",
       "      <td>Consumer Goods</td>\n",
       "      <td>PLATFORM</td>\n",
       "      <td>SPOT</td>\n",
       "      <td>domestic</td>\n",
       "      <td>280</td>\n",
       "      <td>139000.58000</td>\n",
       "      <td>172425.00000</td>\n",
       "      <td>3</td>\n",
       "      <td>330.00000</td>\n",
       "      <td>165.00000</td>\n",
       "      <td>1540.00000</td>\n",
       "      <td>1375.00000</td>\n",
       "      <td>10.71429</td>\n",
       "    </tr>\n",
       "    <tr>\n",
       "      <th>0010O00002E9BbyQAF</th>\n",
       "      <td>2020-03-01</td>\n",
       "      <td>Consumer Goods</td>\n",
       "      <td>PLATFORM</td>\n",
       "      <td>SPOT</td>\n",
       "      <td>domestic</td>\n",
       "      <td>226</td>\n",
       "      <td>406710.71613</td>\n",
       "      <td>432114.51250</td>\n",
       "      <td>3</td>\n",
       "      <td>743.47625</td>\n",
       "      <td>112.89696</td>\n",
       "      <td>2983.98250</td>\n",
       "      <td>3544.50000</td>\n",
       "      <td>6.10123</td>\n",
       "    </tr>\n",
       "    <tr>\n",
       "      <th>...</th>\n",
       "      <td>...</td>\n",
       "      <td>...</td>\n",
       "      <td>...</td>\n",
       "      <td>...</td>\n",
       "      <td>...</td>\n",
       "      <td>...</td>\n",
       "      <td>...</td>\n",
       "      <td>...</td>\n",
       "      <td>...</td>\n",
       "      <td>...</td>\n",
       "      <td>...</td>\n",
       "      <td>...</td>\n",
       "      <td>...</td>\n",
       "      <td>...</td>\n",
       "    </tr>\n",
       "    <tr>\n",
       "      <th>0010O00002CshdhQAB</th>\n",
       "      <td>2020-02-01</td>\n",
       "      <td>Food &amp; Beverages</td>\n",
       "      <td>PLATFORM</td>\n",
       "      <td>CONTRACT</td>\n",
       "      <td>cross-border</td>\n",
       "      <td>1</td>\n",
       "      <td>4141.50000</td>\n",
       "      <td>4001.25000</td>\n",
       "      <td>2</td>\n",
       "      <td>140.25000</td>\n",
       "      <td>140.25000</td>\n",
       "      <td>4141.50000</td>\n",
       "      <td>4001.25000</td>\n",
       "      <td>3.38645</td>\n",
       "    </tr>\n",
       "    <tr>\n",
       "      <th>0013Y00002TSf0dQAD</th>\n",
       "      <td>2020-03-01</td>\n",
       "      <td>Other</td>\n",
       "      <td>PLATFORM</td>\n",
       "      <td>CONTRACT</td>\n",
       "      <td>domestic</td>\n",
       "      <td>1</td>\n",
       "      <td>698.25000</td>\n",
       "      <td>698.25000</td>\n",
       "      <td>3</td>\n",
       "      <td>33.25000</td>\n",
       "      <td>33.25000</td>\n",
       "      <td>698.25000</td>\n",
       "      <td>698.25000</td>\n",
       "      <td>4.76190</td>\n",
       "    </tr>\n",
       "    <tr>\n",
       "      <th>0010O00002M1t50QAB</th>\n",
       "      <td>2020-03-01</td>\n",
       "      <td>Food &amp; Beverages</td>\n",
       "      <td>PLATFORM</td>\n",
       "      <td>CONTRACT</td>\n",
       "      <td>cross-border</td>\n",
       "      <td>1</td>\n",
       "      <td>3751.87500</td>\n",
       "      <td>3643.12500</td>\n",
       "      <td>3</td>\n",
       "      <td>108.75000</td>\n",
       "      <td>108.75000</td>\n",
       "      <td>3751.87500</td>\n",
       "      <td>3643.12500</td>\n",
       "      <td>2.89855</td>\n",
       "    </tr>\n",
       "    <tr>\n",
       "      <th>0010O00002KB8amQAD</th>\n",
       "      <td>2020-02-01</td>\n",
       "      <td>Industrial materials</td>\n",
       "      <td>PLATFORM</td>\n",
       "      <td>SPOT</td>\n",
       "      <td>cross-border</td>\n",
       "      <td>1</td>\n",
       "      <td>1950.56250</td>\n",
       "      <td>1931.25000</td>\n",
       "      <td>2</td>\n",
       "      <td>19.31250</td>\n",
       "      <td>19.31250</td>\n",
       "      <td>1950.56250</td>\n",
       "      <td>1931.25000</td>\n",
       "      <td>0.99010</td>\n",
       "    </tr>\n",
       "    <tr>\n",
       "      <th>0013Y00002ZLJsxQAH</th>\n",
       "      <td>2020-03-01</td>\n",
       "      <td>Hospitality</td>\n",
       "      <td>PLATFORM</td>\n",
       "      <td>SPOT</td>\n",
       "      <td>cross-border</td>\n",
       "      <td>1</td>\n",
       "      <td>492.37500</td>\n",
       "      <td>362.71625</td>\n",
       "      <td>3</td>\n",
       "      <td>129.65875</td>\n",
       "      <td>129.65875</td>\n",
       "      <td>492.37500</td>\n",
       "      <td>362.71625</td>\n",
       "      <td>26.33333</td>\n",
       "    </tr>\n",
       "  </tbody>\n",
       "</table>\n",
       "<p>131 rows × 14 columns</p>\n",
       "</div>"
      ],
      "text/plain": [
       "                   PICKUP_MONTH      SHIPPER CATEGORY LOAD CATEGORY  \\\n",
       "SHIPPER ID                                                            \n",
       "0010O00001vmYzfQAE   2020-03-01      Food & Beverages      PLATFORM   \n",
       "0010O00002IfhmrQAB   2020-03-01           Hospitality      PLATFORM   \n",
       "0010O00002BjhzcQAB   2020-03-01      Food & Beverages      PLATFORM   \n",
       "0010O00002BF1aSQAT   2020-03-01        Consumer Goods      PLATFORM   \n",
       "0010O00002E9BbyQAF   2020-03-01        Consumer Goods      PLATFORM   \n",
       "...                         ...                   ...           ...   \n",
       "0010O00002CshdhQAB   2020-02-01      Food & Beverages      PLATFORM   \n",
       "0013Y00002TSf0dQAD   2020-03-01                 Other      PLATFORM   \n",
       "0010O00002M1t50QAB   2020-03-01      Food & Beverages      PLATFORM   \n",
       "0010O00002KB8amQAD   2020-02-01  Industrial materials      PLATFORM   \n",
       "0013Y00002ZLJsxQAH   2020-03-01           Hospitality      PLATFORM   \n",
       "\n",
       "                   ORDER_TYPE DOMESTIC_VS_CROSS_BORDER  LOADS  \\\n",
       "SHIPPER ID                                                      \n",
       "0010O00001vmYzfQAE   CONTRACT                 domestic    740   \n",
       "0010O00002IfhmrQAB       SPOT                 domestic    726   \n",
       "0010O00002BjhzcQAB       SPOT                 domestic    300   \n",
       "0010O00002BF1aSQAT       SPOT                 domestic    280   \n",
       "0010O00002E9BbyQAF       SPOT                 domestic    226   \n",
       "...                       ...                      ...    ...   \n",
       "0010O00002CshdhQAB   CONTRACT             cross-border      1   \n",
       "0013Y00002TSf0dQAD   CONTRACT                 domestic      1   \n",
       "0010O00002M1t50QAB   CONTRACT             cross-border      1   \n",
       "0010O00002KB8amQAD       SPOT             cross-border      1   \n",
       "0013Y00002ZLJsxQAH       SPOT             cross-border      1   \n",
       "\n",
       "                    SHIPPER_PRICE (REVENUE)  CARRIER_PRICE (COST)  MONTH  \\\n",
       "SHIPPER ID                                                                 \n",
       "0010O00001vmYzfQAE             426742.49375          474605.07500      3   \n",
       "0010O00002IfhmrQAB             456615.50362          371583.39487      3   \n",
       "0010O00002BjhzcQAB             307004.53425          289786.12500      3   \n",
       "0010O00002BF1aSQAT             139000.58000          172425.00000      3   \n",
       "0010O00002E9BbyQAF             406710.71613          432114.51250      3   \n",
       "...                                     ...                   ...    ...   \n",
       "0010O00002CshdhQAB               4141.50000            4001.25000      2   \n",
       "0013Y00002TSf0dQAD                698.25000             698.25000      3   \n",
       "0010O00002M1t50QAB               3751.87500            3643.12500      3   \n",
       "0010O00002KB8amQAD               1950.56250            1931.25000      2   \n",
       "0013Y00002ZLJsxQAH                492.37500             362.71625      3   \n",
       "\n",
       "                        PROFIT  AVG_PROFIT_LOAD  AVG_REV_LOAD  AVG_EXP_LOAD  \\\n",
       "SHIPPER ID                                                                    \n",
       "0010O00001vmYzfQAE 18318.19938         36.14394     758.22304     759.43431   \n",
       "0010O00002IfhmrQAB 85032.10875        398.15625    3359.62500    2961.46875   \n",
       "0010O00002BjhzcQAB 17218.40925        147.90000    1153.52679    1127.67536   \n",
       "0010O00002BF1aSQAT   330.00000        165.00000    1540.00000    1375.00000   \n",
       "0010O00002E9BbyQAF   743.47625        112.89696    2983.98250    3544.50000   \n",
       "...                        ...              ...           ...           ...   \n",
       "0010O00002CshdhQAB   140.25000        140.25000    4141.50000    4001.25000   \n",
       "0013Y00002TSf0dQAD    33.25000         33.25000     698.25000     698.25000   \n",
       "0010O00002M1t50QAB   108.75000        108.75000    3751.87500    3643.12500   \n",
       "0010O00002KB8amQAD    19.31250         19.31250    1950.56250    1931.25000   \n",
       "0013Y00002ZLJsxQAH   129.65875        129.65875     492.37500     362.71625   \n",
       "\n",
       "                     MARGIN  \n",
       "SHIPPER ID                   \n",
       "0010O00001vmYzfQAE  5.61677  \n",
       "0010O00002IfhmrQAB 32.15661  \n",
       "0010O00002BjhzcQAB 15.11111  \n",
       "0010O00002BF1aSQAT 10.71429  \n",
       "0010O00002E9BbyQAF  6.10123  \n",
       "...                     ...  \n",
       "0010O00002CshdhQAB  3.38645  \n",
       "0013Y00002TSf0dQAD  4.76190  \n",
       "0010O00002M1t50QAB  2.89855  \n",
       "0010O00002KB8amQAD  0.99010  \n",
       "0013Y00002ZLJsxQAH 26.33333  \n",
       "\n",
       "[131 rows x 14 columns]"
      ]
     },
     "execution_count": 158,
     "metadata": {},
     "output_type": "execute_result"
    }
   ],
   "source": [
    "# highest loads per Shipper ID\n",
    "unique_customers.max().sort_values(by='LOADS',ascending=False)"
   ]
  },
  {
   "cell_type": "code",
   "execution_count": 159,
   "metadata": {},
   "outputs": [
    {
     "name": "stdout",
     "output_type": "stream",
     "text": [
      "MONTH\n",
      "1    25648.31863\n",
      "2   100065.33362\n",
      "3   -86265.80450\n",
      "Name: PROFIT, dtype: float64\n"
     ]
    }
   ],
   "source": [
    "sum_profit = q1.groupby(['MONTH'])['PROFIT'].sum()\n",
    "print(sum_profit)"
   ]
  },
  {
   "cell_type": "code",
   "execution_count": 160,
   "metadata": {},
   "outputs": [],
   "source": [
    "profit_by_month = q1.groupby('MONTH').agg(revenue = ('SHIPPER_PRICE (REVENUE)','sum'),expense=('CARRIER_PRICE (COST)','sum'),profit=('PROFIT','sum'))"
   ]
  },
  {
   "cell_type": "code",
   "execution_count": 161,
   "metadata": {},
   "outputs": [
    {
     "data": {
      "text/plain": [
       "<AxesSubplot:ylabel='MONTH'>"
      ]
     },
     "execution_count": 161,
     "metadata": {},
     "output_type": "execute_result"
    },
    {
     "data": {
      "image/png": "[encoded data removed]",
      "text/plain": [
       "<Figure size 432x288 with 1 Axes>"
      ]
     },
     "metadata": {
      "needs_background": "light"
     },
     "output_type": "display_data"
    }
   ],
   "source": [
    "\n",
    "profit_by_month.plot(kind='barh')"
   ]
  },
  {
   "cell_type": "code",
   "execution_count": null,
   "metadata": {},
   "outputs": [],
   "source": []
  },
  {
   "cell_type": "markdown",
   "metadata": {},
   "source": [
    "## 1. Contract vs Spot (Order Type)"
   ]
  },
  {
   "cell_type": "code",
   "execution_count": 162,
   "metadata": {},
   "outputs": [
    {
     "name": "stdout",
     "output_type": "stream",
     "text": [
      "MONTH  ORDER_TYPE\n",
      "1      CONTRACT      22872.80363\n",
      "       SPOT           2775.51500\n",
      "2      CONTRACT      94387.05238\n",
      "       SPOT           5678.28125\n",
      "3      CONTRACT     -93240.83900\n",
      "       SPOT           6975.03450\n",
      "Name: PROFIT, dtype: float64\n"
     ]
    }
   ],
   "source": [
    "sum_profit1 = q1.groupby(['MONTH','ORDER_TYPE'])['PROFIT'].sum()\n",
    "print(sum_profit1)"
   ]
  },
  {
   "cell_type": "code",
   "execution_count": 163,
   "metadata": {},
   "outputs": [
    {
     "data": {
      "text/plain": [
       "<AxesSubplot:title={'center':'Contract vs Spot Profit Per Month'}, ylabel='MONTH,ORDER_TYPE'>"
      ]
     },
     "execution_count": 163,
     "metadata": {},
     "output_type": "execute_result"
    },
    {
     "data": {
      "image/png": "[encoded data removed]",
      "text/plain": [
       "<Figure size 432x288 with 1 Axes>"
      ]
     },
     "metadata": {
      "needs_background": "light"
     },
     "output_type": "display_data"
    }
   ],
   "source": [
    "sum_profit1.plot(kind='barh',title='Contract vs Spot Profit Per Month')"
   ]
  },
  {
   "cell_type": "code",
   "execution_count": 164,
   "metadata": {},
   "outputs": [
    {
     "name": "stdout",
     "output_type": "stream",
     "text": [
      "ORDER_TYPE\n",
      "CONTRACT   24019.01700\n",
      "SPOT       15428.83075\n",
      "Name: PROFIT, dtype: float64\n"
     ]
    }
   ],
   "source": [
    "sum_profit1a = q1.groupby(['ORDER_TYPE'])['PROFIT'].sum()\n",
    "print(sum_profit1a)"
   ]
  },
  {
   "cell_type": "code",
   "execution_count": 165,
   "metadata": {},
   "outputs": [
    {
     "data": {
      "text/plain": [
       "<AxesSubplot:ylabel='ORDER_TYPE'>"
      ]
     },
     "execution_count": 165,
     "metadata": {},
     "output_type": "execute_result"
    },
    {
     "data": {
      "image/png": "[encoded data removed]",
      "text/plain": [
       "<Figure size 432x288 with 1 Axes>"
      ]
     },
     "metadata": {
      "needs_background": "light"
     },
     "output_type": "display_data"
    }
   ],
   "source": [
    "sum_profit1a.plot(kind='barh')"
   ]
  },
  {
   "cell_type": "markdown",
   "metadata": {},
   "source": [
    "## 2. Platform vs Manual (Load Category)"
   ]
  },
  {
   "cell_type": "code",
   "execution_count": 166,
   "metadata": {},
   "outputs": [
    {
     "name": "stdout",
     "output_type": "stream",
     "text": [
      "MONTH  LOAD CATEGORY\n",
      "1      MANUAL            3417.10925\n",
      "       PLATFORM         22231.20938\n",
      "2      MANUAL           31023.20975\n",
      "       PLATFORM         69042.12388\n",
      "3      MANUAL          -19638.19400\n",
      "       PLATFORM        -66627.61050\n",
      "Name: PROFIT, dtype: float64\n"
     ]
    }
   ],
   "source": [
    "sum_profit2 = q1.groupby(['MONTH','LOAD CATEGORY'])['PROFIT'].sum()\n",
    "print(sum_profit2)"
   ]
  },
  {
   "cell_type": "code",
   "execution_count": 167,
   "metadata": {},
   "outputs": [
    {
     "data": {
      "text/plain": [
       "<AxesSubplot:ylabel='MONTH,LOAD CATEGORY'>"
      ]
     },
     "execution_count": 167,
     "metadata": {},
     "output_type": "execute_result"
    },
    {
     "data": {
      "image/png": "[encoded data removed]",
      "text/plain": [
       "<Figure size 432x288 with 1 Axes>"
      ]
     },
     "metadata": {
      "needs_background": "light"
     },
     "output_type": "display_data"
    }
   ],
   "source": [
    "sum_profit2.plot(kind='barh')"
   ]
  },
  {
   "cell_type": "code",
   "execution_count": 168,
   "metadata": {},
   "outputs": [
    {
     "name": "stdout",
     "output_type": "stream",
     "text": [
      "LOAD CATEGORY\n",
      "MANUAL     14802.12500\n",
      "PLATFORM   24645.72275\n",
      "Name: PROFIT, dtype: float64\n"
     ]
    }
   ],
   "source": [
    "sum_profit2a = q1.groupby(['LOAD CATEGORY'])['PROFIT'].sum()\n",
    "print(sum_profit2a)"
   ]
  },
  {
   "cell_type": "code",
   "execution_count": 169,
   "metadata": {},
   "outputs": [
    {
     "data": {
      "text/plain": [
       "<AxesSubplot:ylabel='LOAD CATEGORY'>"
      ]
     },
     "execution_count": 169,
     "metadata": {},
     "output_type": "execute_result"
    },
    {
     "data": {
      "image/png": "[encoded data removed]",
      "text/plain": [
       "<Figure size 432x288 with 1 Axes>"
      ]
     },
     "metadata": {
      "needs_background": "light"
     },
     "output_type": "display_data"
    }
   ],
   "source": [
    "sum_profit2a.plot(kind='barh')"
   ]
  },
  {
   "cell_type": "code",
   "execution_count": null,
   "metadata": {},
   "outputs": [],
   "source": []
  },
  {
   "cell_type": "markdown",
   "metadata": {},
   "source": [
    "## 3. Industry (Shipper Category)"
   ]
  },
  {
   "cell_type": "code",
   "execution_count": 205,
   "metadata": {},
   "outputs": [
    {
     "data": {
      "text/plain": [
       "SHIPPER CATEGORY\n",
       "Hospitality                         160409.16850\n",
       "Automotive & Automotive Supplier      8159.20500\n",
       "Food & Beverages                      7467.48000\n",
       "Other                                 4447.58625\n",
       "Other Manufacturing                  -6178.72500\n",
       "Industrial materials                 -8366.54175\n",
       "Consumer Goods                     -126490.32525\n",
       "Name: PROFIT, dtype: float64"
      ]
     },
     "execution_count": 205,
     "metadata": {},
     "output_type": "execute_result"
    }
   ],
   "source": [
    "q1.groupby(['SHIPPER CATEGORY'])['PROFIT'].sum().sort_values(ascending=False)"
   ]
  },
  {
   "cell_type": "code",
   "execution_count": 208,
   "metadata": {},
   "outputs": [],
   "source": [
    "a = q1.groupby(['SHIPPER CATEGORY'])['SHIPPER_PRICE (REVENUE)'].sum()\n",
    "b = q1.groupby(['SHIPPER CATEGORY'])['PROFIT'].sum()\n",
    "c = b/a * 100"
   ]
  },
  {
   "cell_type": "code",
   "execution_count": 209,
   "metadata": {},
   "outputs": [
    {
     "data": {
      "text/plain": [
       "SHIPPER CATEGORY\n",
       "Hospitality                         8.65601\n",
       "Automotive & Automotive Supplier    7.18700\n",
       "Other                               0.90183\n",
       "Food & Beverages                    0.23930\n",
       "Other Manufacturing                -0.56104\n",
       "Industrial materials               -1.65309\n",
       "Consumer Goods                     -7.65738\n",
       "dtype: float64"
      ]
     },
     "execution_count": 209,
     "metadata": {},
     "output_type": "execute_result"
    }
   ],
   "source": [
    "c.sort_values(ascending=False)"
   ]
  },
  {
   "cell_type": "code",
   "execution_count": 215,
   "metadata": {},
   "outputs": [
    {
     "data": {
      "text/plain": [
       "MONTH  SHIPPER CATEGORY                \n",
       "1      Automotive & Automotive Supplier    11.12906\n",
       "       Consumer Goods                      -7.61024\n",
       "       Food & Beverages                    -1.85086\n",
       "       Hospitality                         12.37442\n",
       "       Industrial materials                -2.10095\n",
       "       Other                               -6.01424\n",
       "       Other Manufacturing                 -1.36504\n",
       "2      Automotive & Automotive Supplier    12.59572\n",
       "       Consumer Goods                      -2.53648\n",
       "       Food & Beverages                     4.24209\n",
       "       Hospitality                          8.10806\n",
       "       Industrial materials                 1.09822\n",
       "       Other                                0.55420\n",
       "       Other Manufacturing                  0.26847\n",
       "3      Automotive & Automotive Supplier    -7.07687\n",
       "       Consumer Goods                     -10.78079\n",
       "       Food & Beverages                    -1.64400\n",
       "       Hospitality                          3.04774\n",
       "       Industrial materials                -4.94139\n",
       "       Other                                3.25587\n",
       "       Other Manufacturing                 -0.64957\n",
       "dtype: float64"
      ]
     },
     "execution_count": 215,
     "metadata": {},
     "output_type": "execute_result"
    }
   ],
   "source": [
    "a=q1.groupby(['MONTH','SHIPPER CATEGORY'])['PROFIT'].sum()\n",
    "b=q1.groupby(['MONTH','SHIPPER CATEGORY'])['SHIPPER_PRICE (REVENUE)'].sum()\n",
    "c=a/b*100\n",
    "c"
   ]
  },
  {
   "cell_type": "code",
   "execution_count": 212,
   "metadata": {},
   "outputs": [
    {
     "data": {
      "text/plain": [
       "MONTH  SHIPPER CATEGORY                \n",
       "1      Automotive & Automotive Supplier     5992.12500\n",
       "       Consumer Goods                     -39914.90500\n",
       "       Food & Beverages                   -15873.64437\n",
       "       Hospitality                         88884.20188\n",
       "       Industrial materials                -4128.65388\n",
       "       Other                               -4666.36750\n",
       "       Other Manufacturing                 -4644.43750\n",
       "2      Automotive & Automotive Supplier     4091.89500\n",
       "       Consumer Goods                     -10757.68738\n",
       "       Food & Beverages                    43632.90650\n",
       "       Hospitality                         59183.86975\n",
       "       Industrial materials                 2011.23225\n",
       "       Other                                 906.08000\n",
       "       Other Manufacturing                   997.03750\n",
       "3      Automotive & Automotive Supplier    -1924.81500\n",
       "       Consumer Goods                     -75817.73287\n",
       "       Food & Beverages                   -20291.78212\n",
       "       Hospitality                         12341.09687\n",
       "       Industrial materials                -6249.12012\n",
       "       Other                                8207.87375\n",
       "       Other Manufacturing                 -2531.32500\n",
       "Name: PROFIT, dtype: float64"
      ]
     },
     "execution_count": 212,
     "metadata": {},
     "output_type": "execute_result"
    }
   ],
   "source": [
    "sum_profit3 = q1.groupby(['MONTH','SHIPPER CATEGORY'])['PROFIT'].sum()\n",
    "sum_profit3"
   ]
  },
  {
   "cell_type": "code",
   "execution_count": 171,
   "metadata": {},
   "outputs": [
    {
     "data": {
      "text/plain": [
       "<AxesSubplot:ylabel='MONTH,SHIPPER CATEGORY'>"
      ]
     },
     "execution_count": 171,
     "metadata": {},
     "output_type": "execute_result"
    },
    {
     "data": {
      "image/png": "[encoded data removed]",
      "text/plain": [
       "<Figure size 432x288 with 1 Axes>"
      ]
     },
     "metadata": {
      "needs_background": "light"
     },
     "output_type": "display_data"
    }
   ],
   "source": [
    "sum_profit3.plot(kind='barh')"
   ]
  },
  {
   "cell_type": "code",
   "execution_count": 172,
   "metadata": {},
   "outputs": [
    {
     "name": "stdout",
     "output_type": "stream",
     "text": [
      "SHIPPER CATEGORY\n",
      "Automotive & Automotive Supplier      8159.20500\n",
      "Consumer Goods                     -126490.32525\n",
      "Food & Beverages                      7467.48000\n",
      "Hospitality                         160409.16850\n",
      "Industrial materials                 -8366.54175\n",
      "Other                                 4447.58625\n",
      "Other Manufacturing                  -6178.72500\n",
      "Name: PROFIT, dtype: float64\n"
     ]
    }
   ],
   "source": [
    "sum_profit3a = q1.groupby(['SHIPPER CATEGORY'])['PROFIT'].sum()\n",
    "print(sum_profit3a)"
   ]
  },
  {
   "cell_type": "code",
   "execution_count": 173,
   "metadata": {},
   "outputs": [
    {
     "data": {
      "text/plain": [
       "<AxesSubplot:ylabel='SHIPPER CATEGORY'>"
      ]
     },
     "execution_count": 173,
     "metadata": {},
     "output_type": "execute_result"
    },
    {
     "data": {
      "image/png": "[encoded data removed]",
      "text/plain": [
       "<Figure size 432x288 with 1 Axes>"
      ]
     },
     "metadata": {
      "needs_background": "light"
     },
     "output_type": "display_data"
    }
   ],
   "source": [
    "sum_profit3a.plot(kind='barh')"
   ]
  },
  {
   "cell_type": "markdown",
   "metadata": {},
   "source": [
    "## 4. Destination (Domestic vs Cross Border)"
   ]
  },
  {
   "cell_type": "code",
   "execution_count": 174,
   "metadata": {},
   "outputs": [
    {
     "name": "stdout",
     "output_type": "stream",
     "text": [
      "MONTH  DOMESTIC_VS_CROSS_BORDER\n",
      "1      cross-border               -59899.65225\n",
      "       domestic                    85547.97088\n",
      "2      cross-border                -9406.65100\n",
      "       domestic                   109471.98463\n",
      "3      cross-border               -46182.16075\n",
      "       domestic                   -40083.64375\n",
      "Name: PROFIT, dtype: float64\n"
     ]
    }
   ],
   "source": [
    "sum_profit4 = q1.groupby(['MONTH','DOMESTIC_VS_CROSS_BORDER'])['PROFIT'].sum()\n",
    "print(sum_profit4)"
   ]
  },
  {
   "cell_type": "code",
   "execution_count": 175,
   "metadata": {},
   "outputs": [
    {
     "data": {
      "text/plain": [
       "<AxesSubplot:ylabel='MONTH,DOMESTIC_VS_CROSS_BORDER'>"
      ]
     },
     "execution_count": 175,
     "metadata": {},
     "output_type": "execute_result"
    },
    {
     "data": {
      "image/png": "[encoded data removed]",
      "text/plain": [
       "<Figure size 432x288 with 1 Axes>"
      ]
     },
     "metadata": {
      "needs_background": "light"
     },
     "output_type": "display_data"
    }
   ],
   "source": [
    "sum_profit4.plot(kind='barh')"
   ]
  },
  {
   "cell_type": "code",
   "execution_count": 176,
   "metadata": {},
   "outputs": [
    {
     "name": "stdout",
     "output_type": "stream",
     "text": [
      "DOMESTIC_VS_CROSS_BORDER\n",
      "cross-border   -115488.46400\n",
      "domestic        154936.31175\n",
      "Name: PROFIT, dtype: float64\n"
     ]
    }
   ],
   "source": [
    "sum_profit4a = q1.groupby(['DOMESTIC_VS_CROSS_BORDER'])['PROFIT'].sum()\n",
    "print(sum_profit4a)"
   ]
  },
  {
   "cell_type": "code",
   "execution_count": 177,
   "metadata": {},
   "outputs": [
    {
     "data": {
      "text/plain": [
       "<AxesSubplot:ylabel='DOMESTIC_VS_CROSS_BORDER'>"
      ]
     },
     "execution_count": 177,
     "metadata": {},
     "output_type": "execute_result"
    },
    {
     "data": {
      "image/png": "[encoded data removed]",
      "text/plain": [
       "<Figure size 432x288 with 1 Axes>"
      ]
     },
     "metadata": {
      "needs_background": "light"
     },
     "output_type": "display_data"
    }
   ],
   "source": [
    "sum_profit4a.plot(kind='barh')"
   ]
  },
  {
   "cell_type": "code",
   "execution_count": null,
   "metadata": {},
   "outputs": [],
   "source": []
  },
  {
   "cell_type": "code",
   "execution_count": 178,
   "metadata": {},
   "outputs": [
    {
     "data": {
      "image/png": "[encoded data removed]",
      "text/plain": [
       "<Figure size 432x288 with 4 Axes>"
      ]
     },
     "metadata": {
      "needs_background": "light"
     },
     "output_type": "display_data"
    },
    {
     "data": {
      "image/png": "[encoded data removed]",
      "text/plain": [
       "<Figure size 1080x1440 with 4 Axes>"
      ]
     },
     "metadata": {
      "needs_background": "light"
     },
     "output_type": "display_data"
    }
   ],
   "source": [
    "fig, axs = plt.subplots(4, 1)\n",
    "plt.figure(figsize=(15,20))\n",
    "\n",
    "#plot 1\n",
    "plt.subplot(4, 1,1)\n",
    "axs = sum_profit1a.plot.barh(title='Spot vs Contract Profit',color='green')\n",
    "\n",
    "#plot 2\n",
    "plt.subplot(4, 1,2)\n",
    "axs = sum_profit2a.plot.barh(title='Platform vs Manual Profit',color='blue')\n",
    "\n",
    "#plot 3\n",
    "plt.subplot(4, 1,3)\n",
    "axs=sum_profit3a.plot.barh(title='Category Profit',color='red')\n",
    "\n",
    "#plot 4\n",
    "plt.subplot(4, 1,4)\n",
    "axs=sum_profit4a.plot.barh(title='Destination Profit',color='orange')\n",
    "\n",
    "\n",
    "\n",
    "plt.show()\n",
    "\n"
   ]
  },
  {
   "cell_type": "markdown",
   "metadata": {},
   "source": [
    "So overall the best performing area is:\n",
    "1. Contract loads\n",
    "2. Booked on the platform\n",
    "3. Hospitality sector\n",
    "4. Domestic loads\n",
    "\n",
    "And the worst performing area is\n",
    "1. Spot loads\n",
    "2. Booked manually\n",
    "3. Consumer goods sector\n",
    "4. Cross-border"
   ]
  },
  {
   "cell_type": "code",
   "execution_count": null,
   "metadata": {},
   "outputs": [],
   "source": []
  },
  {
   "cell_type": "markdown",
   "metadata": {},
   "source": [
    "But digging deeper into the specific months..."
   ]
  },
  {
   "cell_type": "code",
   "execution_count": 179,
   "metadata": {},
   "outputs": [
    {
     "data": {
      "image/png": "[encoded data removed]",
      "text/plain": [
       "<Figure size 432x288 with 4 Axes>"
      ]
     },
     "metadata": {
      "needs_background": "light"
     },
     "output_type": "display_data"
    },
    {
     "data": {
      "image/png": "[encoded data removed]",
      "text/plain": [
       "<Figure size 1080x1440 with 4 Axes>"
      ]
     },
     "metadata": {
      "needs_background": "light"
     },
     "output_type": "display_data"
    }
   ],
   "source": [
    "fig, axs = plt.subplots(4, 1)\n",
    "plt.figure(figsize=(15,20))\n",
    "\n",
    "#plot 1\n",
    "plt.subplot(4, 1,1)\n",
    "axs = sum_profit1.plot.barh(title='Spot vs Contract Profit',color='green')\n",
    "\n",
    "#plot 2\n",
    "plt.subplot(4, 1,2)\n",
    "axs = sum_profit2.plot.barh(title='Platform vs Manual Profit',color='blue')\n",
    "\n",
    "#plot 3\n",
    "plt.subplot(4, 1,3)\n",
    "axs=sum_profit3.plot.barh(title='Category Profit',color='red')\n",
    "\n",
    "#plot 4\n",
    "plt.subplot(4, 1,4)\n",
    "axs=sum_profit4.plot.barh(title='Destination Profit',color='orange')\n",
    "\n",
    "\n",
    "\n",
    "plt.show()"
   ]
  },
  {
   "cell_type": "markdown",
   "metadata": {},
   "source": [
    "So overall the best performing area is:\n",
    "1. Feb contract loads\n",
    "2. Feb loads booked on the platform\n",
    "3. Feb Hospitality and Food&Beverages and Jan Hospitaltiy sector\n",
    "4. Feb and Jan Domestic loads\n",
    "\n",
    "And the worst performing area is\n",
    "1. March contract loads\n",
    "2. March loads booked on the platform\n",
    "3. March and Jan consumer goods sector\n",
    "4. March cross-border and domestic and Jan cross-border"
   ]
  },
  {
   "cell_type": "code",
   "execution_count": 180,
   "metadata": {},
   "outputs": [
    {
     "name": "stdout",
     "output_type": "stream",
     "text": [
      "MONTH\n",
      "1     81\n",
      "2     96\n",
      "3    104\n",
      "Name: SHIPPER ID, dtype: int64\n"
     ]
    }
   ],
   "source": [
    "active_customers_month = q1.groupby('MONTH')['SHIPPER ID'].nunique()\n",
    "print(active_customers_month)"
   ]
  },
  {
   "cell_type": "code",
   "execution_count": 181,
   "metadata": {},
   "outputs": [
    {
     "data": {
      "text/plain": [
       "<AxesSubplot:xlabel='MONTH'>"
      ]
     },
     "execution_count": 181,
     "metadata": {},
     "output_type": "execute_result"
    },
    {
     "data": {
      "image/png": "[encoded data removed]",
      "text/plain": [
       "<Figure size 432x288 with 1 Axes>"
      ]
     },
     "metadata": {
      "needs_background": "light"
     },
     "output_type": "display_data"
    }
   ],
   "source": [
    "active_customers_month.plot(kind='bar')"
   ]
  },
  {
   "cell_type": "code",
   "execution_count": 182,
   "metadata": {},
   "outputs": [
    {
     "data": {
      "text/plain": [
       "PROFIT                      39447.84775\n",
       "SHIPPER_PRICE (REVENUE)   8839645.33875\n",
       "CARRIER_PRICE (COST)      8800197.49100\n",
       "LOADS                       10091.00000\n",
       "dtype: float64"
      ]
     },
     "execution_count": 182,
     "metadata": {},
     "output_type": "execute_result"
    }
   ],
   "source": [
    "cols = ['PROFIT','SHIPPER_PRICE (REVENUE)','CARRIER_PRICE (COST)','LOADS']\n",
    "q1[cols].sum()"
   ]
  },
  {
   "cell_type": "code",
   "execution_count": 183,
   "metadata": {},
   "outputs": [
    {
     "name": "stdout",
     "output_type": "stream",
     "text": [
      "0.44626052560133994\n"
     ]
    }
   ],
   "source": [
    "margin = q1['PROFIT'].sum() / q1['SHIPPER_PRICE (REVENUE)'].sum() * 100\n",
    "print(margin)"
   ]
  },
  {
   "cell_type": "markdown",
   "metadata": {},
   "source": [
    "Want to increase margin by 2% so ~0.45% to 2.45%"
   ]
  },
  {
   "cell_type": "code",
   "execution_count": 184,
   "metadata": {},
   "outputs": [
    {
     "name": "stdout",
     "output_type": "stream",
     "text": [
      "39447.8477500001\n"
     ]
    }
   ],
   "source": [
    "profit = q1['PROFIT'].sum()\n",
    "print(profit)"
   ]
  },
  {
   "cell_type": "code",
   "execution_count": 185,
   "metadata": {},
   "outputs": [
    {
     "name": "stdout",
     "output_type": "stream",
     "text": [
      "40236.804705000104\n"
     ]
    }
   ],
   "source": [
    "new_profit = profit * 1.02\n",
    "print(new_profit)"
   ]
  },
  {
   "cell_type": "code",
   "execution_count": 186,
   "metadata": {},
   "outputs": [
    {
     "name": "stdout",
     "output_type": "stream",
     "text": [
      "788.9569550000015\n"
     ]
    }
   ],
   "source": [
    "difference = new_profit - profit\n",
    "print(difference)"
   ]
  },
  {
   "cell_type": "markdown",
   "metadata": {},
   "source": [
    "So target is to increase revenue by 789 or decrease costs by 789 or combination of both that equals 789"
   ]
  },
  {
   "cell_type": "code",
   "execution_count": null,
   "metadata": {},
   "outputs": [],
   "source": []
  },
  {
   "cell_type": "code",
   "execution_count": null,
   "metadata": {},
   "outputs": [],
   "source": []
  },
  {
   "cell_type": "markdown",
   "metadata": {},
   "source": [
    "\n",
    "Examine worst performing area at macro level which is\n",
    "### 1. MACRO\n",
    "1. Spot loads\n",
    "2. Booked manually\n",
    "3. Consumer goods sector\n",
    "4. Cross-border\n",
    "\n",
    "And the worst performing area is\n",
    "\n",
    "### 2. MICRO\n",
    "1. March contract loads\n",
    "2. March loads booked on the platform\n",
    "3. March and Jan consumer goods sector\n",
    "4. March cross-border and domestic and Jan cross-border"
   ]
  },
  {
   "cell_type": "markdown",
   "metadata": {},
   "source": [
    "Characteristics in common are the consumer goods sector and cross-border loads\n"
   ]
  },
  {
   "cell_type": "code",
   "execution_count": 187,
   "metadata": {},
   "outputs": [
    {
     "data": {
      "text/html": [
       "<div>\n",
       "<style scoped>\n",
       "    .dataframe tbody tr th:only-of-type {\n",
       "        vertical-align: middle;\n",
       "    }\n",
       "\n",
       "    .dataframe tbody tr th {\n",
       "        vertical-align: top;\n",
       "    }\n",
       "\n",
       "    .dataframe thead th {\n",
       "        text-align: right;\n",
       "    }\n",
       "</style>\n",
       "<table border=\"1\" class=\"dataframe\">\n",
       "  <thead>\n",
       "    <tr style=\"text-align: right;\">\n",
       "      <th></th>\n",
       "      <th>PICKUP_MONTH</th>\n",
       "      <th>SHIPPER ID</th>\n",
       "      <th>SHIPPER CATEGORY</th>\n",
       "      <th>LOAD CATEGORY</th>\n",
       "      <th>ORDER_TYPE</th>\n",
       "      <th>DOMESTIC_VS_CROSS_BORDER</th>\n",
       "      <th>LOADS</th>\n",
       "      <th>SHIPPER_PRICE (REVENUE)</th>\n",
       "      <th>CARRIER_PRICE (COST)</th>\n",
       "      <th>MONTH</th>\n",
       "      <th>PROFIT</th>\n",
       "      <th>AVG_PROFIT_LOAD</th>\n",
       "      <th>AVG_REV_LOAD</th>\n",
       "      <th>AVG_EXP_LOAD</th>\n",
       "      <th>MARGIN</th>\n",
       "    </tr>\n",
       "  </thead>\n",
       "  <tbody>\n",
       "    <tr>\n",
       "      <th>0</th>\n",
       "      <td>2020-01-01</td>\n",
       "      <td>0010O00001vmYzfQAE</td>\n",
       "      <td>Food &amp; Beverages</td>\n",
       "      <td>PLATFORM</td>\n",
       "      <td>CONTRACT</td>\n",
       "      <td>domestic</td>\n",
       "      <td>141</td>\n",
       "      <td>106909.44813</td>\n",
       "      <td>107080.23750</td>\n",
       "      <td>1</td>\n",
       "      <td>-170.78937</td>\n",
       "      <td>-1.21127</td>\n",
       "      <td>758.22304</td>\n",
       "      <td>759.43431</td>\n",
       "      <td>-0.15975</td>\n",
       "    </tr>\n",
       "    <tr>\n",
       "      <th>1</th>\n",
       "      <td>2020-01-01</td>\n",
       "      <td>0010O00002M1P8nQAF</td>\n",
       "      <td>Industrial materials</td>\n",
       "      <td>PLATFORM</td>\n",
       "      <td>CONTRACT</td>\n",
       "      <td>cross-border</td>\n",
       "      <td>1</td>\n",
       "      <td>2702.50000</td>\n",
       "      <td>2300.00000</td>\n",
       "      <td>1</td>\n",
       "      <td>402.50000</td>\n",
       "      <td>402.50000</td>\n",
       "      <td>2702.50000</td>\n",
       "      <td>2300.00000</td>\n",
       "      <td>14.89362</td>\n",
       "    </tr>\n",
       "    <tr>\n",
       "      <th>2</th>\n",
       "      <td>2020-01-01</td>\n",
       "      <td>0013Y00002UjLn1QAF</td>\n",
       "      <td>Industrial materials</td>\n",
       "      <td>PLATFORM</td>\n",
       "      <td>SPOT</td>\n",
       "      <td>cross-border</td>\n",
       "      <td>1</td>\n",
       "      <td>1091.25000</td>\n",
       "      <td>1030.62500</td>\n",
       "      <td>1</td>\n",
       "      <td>60.62500</td>\n",
       "      <td>60.62500</td>\n",
       "      <td>1091.25000</td>\n",
       "      <td>1030.62500</td>\n",
       "      <td>5.55556</td>\n",
       "    </tr>\n",
       "    <tr>\n",
       "      <th>3</th>\n",
       "      <td>2020-01-01</td>\n",
       "      <td>0010O00002Bji22QAB</td>\n",
       "      <td>Other Manufacturing</td>\n",
       "      <td>PLATFORM</td>\n",
       "      <td>SPOT</td>\n",
       "      <td>cross-border</td>\n",
       "      <td>5</td>\n",
       "      <td>13051.25000</td>\n",
       "      <td>10361.50000</td>\n",
       "      <td>1</td>\n",
       "      <td>2689.75000</td>\n",
       "      <td>537.95000</td>\n",
       "      <td>2610.25000</td>\n",
       "      <td>2072.30000</td>\n",
       "      <td>20.60914</td>\n",
       "    </tr>\n",
       "    <tr>\n",
       "      <th>4</th>\n",
       "      <td>2020-01-01</td>\n",
       "      <td>0013Y00002UkaqeQAB</td>\n",
       "      <td>Food &amp; Beverages</td>\n",
       "      <td>PLATFORM</td>\n",
       "      <td>CONTRACT</td>\n",
       "      <td>cross-border</td>\n",
       "      <td>1</td>\n",
       "      <td>2227.50000</td>\n",
       "      <td>2014.87500</td>\n",
       "      <td>1</td>\n",
       "      <td>212.62500</td>\n",
       "      <td>212.62500</td>\n",
       "      <td>2227.50000</td>\n",
       "      <td>2014.87500</td>\n",
       "      <td>9.54545</td>\n",
       "    </tr>\n",
       "  </tbody>\n",
       "</table>\n",
       "</div>"
      ],
      "text/plain": [
       "  PICKUP_MONTH          SHIPPER ID      SHIPPER CATEGORY LOAD CATEGORY  \\\n",
       "0   2020-01-01  0010O00001vmYzfQAE      Food & Beverages      PLATFORM   \n",
       "1   2020-01-01  0010O00002M1P8nQAF  Industrial materials      PLATFORM   \n",
       "2   2020-01-01  0013Y00002UjLn1QAF  Industrial materials      PLATFORM   \n",
       "3   2020-01-01  0010O00002Bji22QAB   Other Manufacturing      PLATFORM   \n",
       "4   2020-01-01  0013Y00002UkaqeQAB      Food & Beverages      PLATFORM   \n",
       "\n",
       "  ORDER_TYPE DOMESTIC_VS_CROSS_BORDER  LOADS  SHIPPER_PRICE (REVENUE)  \\\n",
       "0   CONTRACT                 domestic    141             106909.44813   \n",
       "1   CONTRACT             cross-border      1               2702.50000   \n",
       "2       SPOT             cross-border      1               1091.25000   \n",
       "3       SPOT             cross-border      5              13051.25000   \n",
       "4   CONTRACT             cross-border      1               2227.50000   \n",
       "\n",
       "   CARRIER_PRICE (COST)  MONTH     PROFIT  AVG_PROFIT_LOAD  AVG_REV_LOAD  \\\n",
       "0          107080.23750      1 -170.78937         -1.21127     758.22304   \n",
       "1            2300.00000      1  402.50000        402.50000    2702.50000   \n",
       "2            1030.62500      1   60.62500         60.62500    1091.25000   \n",
       "3           10361.50000      1 2689.75000        537.95000    2610.25000   \n",
       "4            2014.87500      1  212.62500        212.62500    2227.50000   \n",
       "\n",
       "   AVG_EXP_LOAD   MARGIN  \n",
       "0     759.43431 -0.15975  \n",
       "1    2300.00000 14.89362  \n",
       "2    1030.62500  5.55556  \n",
       "3    2072.30000 20.60914  \n",
       "4    2014.87500  9.54545  "
      ]
     },
     "execution_count": 187,
     "metadata": {},
     "output_type": "execute_result"
    }
   ],
   "source": [
    "q1.head()"
   ]
  },
  {
   "cell_type": "code",
   "execution_count": 188,
   "metadata": {},
   "outputs": [],
   "source": [
    "con_goods = q1[q1['SHIPPER CATEGORY'] == 'Consumer Goods']"
   ]
  },
  {
   "cell_type": "code",
   "execution_count": 189,
   "metadata": {},
   "outputs": [
    {
     "name": "stdout",
     "output_type": "stream",
     "text": [
      "<class 'pandas.core.frame.DataFrame'>\n",
      "Int64Index: 45 entries, 14 to 436\n",
      "Data columns (total 15 columns):\n",
      " #   Column                    Non-Null Count  Dtype         \n",
      "---  ------                    --------------  -----         \n",
      " 0   PICKUP_MONTH              45 non-null     datetime64[ns]\n",
      " 1   SHIPPER ID                45 non-null     object        \n",
      " 2   SHIPPER CATEGORY          45 non-null     object        \n",
      " 3   LOAD CATEGORY             45 non-null     object        \n",
      " 4   ORDER_TYPE                45 non-null     object        \n",
      " 5   DOMESTIC_VS_CROSS_BORDER  45 non-null     object        \n",
      " 6   LOADS                     45 non-null     int64         \n",
      " 7   SHIPPER_PRICE (REVENUE)   45 non-null     float64       \n",
      " 8   CARRIER_PRICE (COST)      45 non-null     float64       \n",
      " 9   MONTH                     45 non-null     int64         \n",
      " 10  PROFIT                    45 non-null     float64       \n",
      " 11  AVG_PROFIT_LOAD           45 non-null     float64       \n",
      " 12  AVG_REV_LOAD              45 non-null     float64       \n",
      " 13  AVG_EXP_LOAD              45 non-null     float64       \n",
      " 14  MARGIN                    45 non-null     float64       \n",
      "dtypes: datetime64[ns](1), float64(7), int64(2), object(5)\n",
      "memory usage: 5.6+ KB\n"
     ]
    }
   ],
   "source": [
    "con_goods.info()"
   ]
  },
  {
   "cell_type": "code",
   "execution_count": 190,
   "metadata": {},
   "outputs": [
    {
     "data": {
      "text/html": [
       "<div>\n",
       "<style scoped>\n",
       "    .dataframe tbody tr th:only-of-type {\n",
       "        vertical-align: middle;\n",
       "    }\n",
       "\n",
       "    .dataframe tbody tr th {\n",
       "        vertical-align: top;\n",
       "    }\n",
       "\n",
       "    .dataframe thead th {\n",
       "        text-align: right;\n",
       "    }\n",
       "</style>\n",
       "<table border=\"1\" class=\"dataframe\">\n",
       "  <thead>\n",
       "    <tr style=\"text-align: right;\">\n",
       "      <th></th>\n",
       "      <th>PICKUP_MONTH</th>\n",
       "      <th>SHIPPER ID</th>\n",
       "      <th>SHIPPER CATEGORY</th>\n",
       "      <th>LOAD CATEGORY</th>\n",
       "      <th>ORDER_TYPE</th>\n",
       "      <th>DOMESTIC_VS_CROSS_BORDER</th>\n",
       "      <th>LOADS</th>\n",
       "      <th>SHIPPER_PRICE (REVENUE)</th>\n",
       "      <th>CARRIER_PRICE (COST)</th>\n",
       "      <th>MONTH</th>\n",
       "      <th>PROFIT</th>\n",
       "      <th>AVG_PROFIT_LOAD</th>\n",
       "      <th>AVG_REV_LOAD</th>\n",
       "      <th>AVG_EXP_LOAD</th>\n",
       "      <th>MARGIN</th>\n",
       "    </tr>\n",
       "  </thead>\n",
       "  <tbody>\n",
       "    <tr>\n",
       "      <th>14</th>\n",
       "      <td>2020-01-01</td>\n",
       "      <td>0013Y00002QBH2iQAH</td>\n",
       "      <td>Consumer Goods</td>\n",
       "      <td>PLATFORM</td>\n",
       "      <td>CONTRACT</td>\n",
       "      <td>cross-border</td>\n",
       "      <td>4</td>\n",
       "      <td>12643.14700</td>\n",
       "      <td>12746.25000</td>\n",
       "      <td>1</td>\n",
       "      <td>-103.10300</td>\n",
       "      <td>-25.77575</td>\n",
       "      <td>3160.78675</td>\n",
       "      <td>3186.56250</td>\n",
       "      <td>-0.81549</td>\n",
       "    </tr>\n",
       "    <tr>\n",
       "      <th>21</th>\n",
       "      <td>2020-01-01</td>\n",
       "      <td>0010O00002BF1aSQAT</td>\n",
       "      <td>Consumer Goods</td>\n",
       "      <td>MANUAL</td>\n",
       "      <td>SPOT</td>\n",
       "      <td>cross-border</td>\n",
       "      <td>2</td>\n",
       "      <td>1040.00000</td>\n",
       "      <td>1000.00000</td>\n",
       "      <td>1</td>\n",
       "      <td>40.00000</td>\n",
       "      <td>20.00000</td>\n",
       "      <td>520.00000</td>\n",
       "      <td>500.00000</td>\n",
       "      <td>3.84615</td>\n",
       "    </tr>\n",
       "    <tr>\n",
       "      <th>27</th>\n",
       "      <td>2020-01-01</td>\n",
       "      <td>0013Y00002Sjx0wQAB</td>\n",
       "      <td>Consumer Goods</td>\n",
       "      <td>PLATFORM</td>\n",
       "      <td>CONTRACT</td>\n",
       "      <td>cross-border</td>\n",
       "      <td>6</td>\n",
       "      <td>6115.03750</td>\n",
       "      <td>6881.87500</td>\n",
       "      <td>1</td>\n",
       "      <td>-766.83750</td>\n",
       "      <td>-127.80625</td>\n",
       "      <td>1019.17292</td>\n",
       "      <td>1146.97917</td>\n",
       "      <td>-12.54019</td>\n",
       "    </tr>\n",
       "    <tr>\n",
       "      <th>34</th>\n",
       "      <td>2020-01-01</td>\n",
       "      <td>0010O00002BF1aSQAT</td>\n",
       "      <td>Consumer Goods</td>\n",
       "      <td>PLATFORM</td>\n",
       "      <td>CONTRACT</td>\n",
       "      <td>cross-border</td>\n",
       "      <td>39</td>\n",
       "      <td>22745.00000</td>\n",
       "      <td>24625.00000</td>\n",
       "      <td>1</td>\n",
       "      <td>-1880.00000</td>\n",
       "      <td>-48.20513</td>\n",
       "      <td>583.20513</td>\n",
       "      <td>631.41026</td>\n",
       "      <td>-8.26555</td>\n",
       "    </tr>\n",
       "    <tr>\n",
       "      <th>61</th>\n",
       "      <td>2020-01-01</td>\n",
       "      <td>0010O00002BjsojQAB</td>\n",
       "      <td>Consumer Goods</td>\n",
       "      <td>PLATFORM</td>\n",
       "      <td>SPOT</td>\n",
       "      <td>cross-border</td>\n",
       "      <td>1</td>\n",
       "      <td>2998.12500</td>\n",
       "      <td>2844.37500</td>\n",
       "      <td>1</td>\n",
       "      <td>153.75000</td>\n",
       "      <td>153.75000</td>\n",
       "      <td>2998.12500</td>\n",
       "      <td>2844.37500</td>\n",
       "      <td>5.12821</td>\n",
       "    </tr>\n",
       "  </tbody>\n",
       "</table>\n",
       "</div>"
      ],
      "text/plain": [
       "   PICKUP_MONTH          SHIPPER ID SHIPPER CATEGORY LOAD CATEGORY ORDER_TYPE  \\\n",
       "14   2020-01-01  0013Y00002QBH2iQAH   Consumer Goods      PLATFORM   CONTRACT   \n",
       "21   2020-01-01  0010O00002BF1aSQAT   Consumer Goods        MANUAL       SPOT   \n",
       "27   2020-01-01  0013Y00002Sjx0wQAB   Consumer Goods      PLATFORM   CONTRACT   \n",
       "34   2020-01-01  0010O00002BF1aSQAT   Consumer Goods      PLATFORM   CONTRACT   \n",
       "61   2020-01-01  0010O00002BjsojQAB   Consumer Goods      PLATFORM       SPOT   \n",
       "\n",
       "   DOMESTIC_VS_CROSS_BORDER  LOADS  SHIPPER_PRICE (REVENUE)  \\\n",
       "14             cross-border      4              12643.14700   \n",
       "21             cross-border      2               1040.00000   \n",
       "27             cross-border      6               6115.03750   \n",
       "34             cross-border     39              22745.00000   \n",
       "61             cross-border      1               2998.12500   \n",
       "\n",
       "    CARRIER_PRICE (COST)  MONTH      PROFIT  AVG_PROFIT_LOAD  AVG_REV_LOAD  \\\n",
       "14           12746.25000      1  -103.10300        -25.77575    3160.78675   \n",
       "21            1000.00000      1    40.00000         20.00000     520.00000   \n",
       "27            6881.87500      1  -766.83750       -127.80625    1019.17292   \n",
       "34           24625.00000      1 -1880.00000        -48.20513     583.20513   \n",
       "61            2844.37500      1   153.75000        153.75000    2998.12500   \n",
       "\n",
       "    AVG_EXP_LOAD    MARGIN  \n",
       "14    3186.56250  -0.81549  \n",
       "21     500.00000   3.84615  \n",
       "27    1146.97917 -12.54019  \n",
       "34     631.41026  -8.26555  \n",
       "61    2844.37500   5.12821  "
      ]
     },
     "execution_count": 190,
     "metadata": {},
     "output_type": "execute_result"
    }
   ],
   "source": [
    "con_goods.head()"
   ]
  },
  {
   "cell_type": "code",
   "execution_count": 191,
   "metadata": {},
   "outputs": [
    {
     "data": {
      "text/plain": [
       "1651874.08725"
      ]
     },
     "execution_count": 191,
     "metadata": {},
     "output_type": "execute_result"
    }
   ],
   "source": [
    "con_goods['SHIPPER_PRICE (REVENUE)'].sum()"
   ]
  },
  {
   "cell_type": "code",
   "execution_count": 192,
   "metadata": {},
   "outputs": [
    {
     "data": {
      "text/plain": [
       "1778364.4125"
      ]
     },
     "execution_count": 192,
     "metadata": {},
     "output_type": "execute_result"
    }
   ],
   "source": [
    "con_goods['CARRIER_PRICE (COST)'].sum()"
   ]
  },
  {
   "cell_type": "code",
   "execution_count": 193,
   "metadata": {},
   "outputs": [
    {
     "data": {
      "text/plain": [
       "PICKUP_MONTH                 3\n",
       "SHIPPER ID                   9\n",
       "SHIPPER CATEGORY             1\n",
       "LOAD CATEGORY                2\n",
       "ORDER_TYPE                   2\n",
       "DOMESTIC_VS_CROSS_BORDER     2\n",
       "LOADS                       24\n",
       "SHIPPER_PRICE (REVENUE)     45\n",
       "CARRIER_PRICE (COST)        45\n",
       "MONTH                        3\n",
       "PROFIT                      44\n",
       "AVG_PROFIT_LOAD             44\n",
       "AVG_REV_LOAD                45\n",
       "AVG_EXP_LOAD                45\n",
       "MARGIN                      45\n",
       "dtype: int64"
      ]
     },
     "execution_count": 193,
     "metadata": {},
     "output_type": "execute_result"
    }
   ],
   "source": [
    "con_goods.nunique()"
   ]
  },
  {
   "cell_type": "code",
   "execution_count": 135,
   "metadata": {},
   "outputs": [
    {
     "data": {
      "text/html": [
       "<div>\n",
       "<style scoped>\n",
       "    .dataframe tbody tr th:only-of-type {\n",
       "        vertical-align: middle;\n",
       "    }\n",
       "\n",
       "    .dataframe tbody tr th {\n",
       "        vertical-align: top;\n",
       "    }\n",
       "\n",
       "    .dataframe thead th {\n",
       "        text-align: right;\n",
       "    }\n",
       "</style>\n",
       "<table border=\"1\" class=\"dataframe\">\n",
       "  <thead>\n",
       "    <tr style=\"text-align: right;\">\n",
       "      <th></th>\n",
       "      <th>SHIPPER ID</th>\n",
       "      <th>SHIPPER CATEGORY</th>\n",
       "      <th>LOAD CATEGORY</th>\n",
       "      <th>ORDER_TYPE</th>\n",
       "      <th>DOMESTIC_VS_CROSS_BORDER</th>\n",
       "      <th>LOADS</th>\n",
       "      <th>SHIPPER_PRICE (REVENUE)</th>\n",
       "      <th>CARRIER_PRICE (COST)</th>\n",
       "      <th>MONTH</th>\n",
       "      <th>PROFIT</th>\n",
       "      <th>AVG_PROFIT_LOAD</th>\n",
       "      <th>AVG_REV_LOAD</th>\n",
       "      <th>AVG_EXP_LOAD</th>\n",
       "    </tr>\n",
       "  </thead>\n",
       "  <tbody>\n",
       "    <tr>\n",
       "      <th>14</th>\n",
       "      <td>0013Y00002QBH2iQAH</td>\n",
       "      <td>Consumer Goods</td>\n",
       "      <td>PLATFORM</td>\n",
       "      <td>CONTRACT</td>\n",
       "      <td>cross-border</td>\n",
       "      <td>4</td>\n",
       "      <td>12643.14700</td>\n",
       "      <td>12746.25000</td>\n",
       "      <td>1</td>\n",
       "      <td>-103.10300</td>\n",
       "      <td>-25.77575</td>\n",
       "      <td>3160.78675</td>\n",
       "      <td>3186.56250</td>\n",
       "    </tr>\n",
       "    <tr>\n",
       "      <th>21</th>\n",
       "      <td>0010O00002BF1aSQAT</td>\n",
       "      <td>Consumer Goods</td>\n",
       "      <td>MANUAL</td>\n",
       "      <td>SPOT</td>\n",
       "      <td>cross-border</td>\n",
       "      <td>2</td>\n",
       "      <td>1040.00000</td>\n",
       "      <td>1000.00000</td>\n",
       "      <td>1</td>\n",
       "      <td>40.00000</td>\n",
       "      <td>20.00000</td>\n",
       "      <td>520.00000</td>\n",
       "      <td>500.00000</td>\n",
       "    </tr>\n",
       "    <tr>\n",
       "      <th>27</th>\n",
       "      <td>0013Y00002Sjx0wQAB</td>\n",
       "      <td>Consumer Goods</td>\n",
       "      <td>PLATFORM</td>\n",
       "      <td>CONTRACT</td>\n",
       "      <td>cross-border</td>\n",
       "      <td>6</td>\n",
       "      <td>6115.03750</td>\n",
       "      <td>6881.87500</td>\n",
       "      <td>1</td>\n",
       "      <td>-766.83750</td>\n",
       "      <td>-127.80625</td>\n",
       "      <td>1019.17292</td>\n",
       "      <td>1146.97917</td>\n",
       "    </tr>\n",
       "    <tr>\n",
       "      <th>34</th>\n",
       "      <td>0010O00002BF1aSQAT</td>\n",
       "      <td>Consumer Goods</td>\n",
       "      <td>PLATFORM</td>\n",
       "      <td>CONTRACT</td>\n",
       "      <td>cross-border</td>\n",
       "      <td>39</td>\n",
       "      <td>22745.00000</td>\n",
       "      <td>24625.00000</td>\n",
       "      <td>1</td>\n",
       "      <td>-1880.00000</td>\n",
       "      <td>-48.20513</td>\n",
       "      <td>583.20513</td>\n",
       "      <td>631.41026</td>\n",
       "    </tr>\n",
       "    <tr>\n",
       "      <th>61</th>\n",
       "      <td>0010O00002BjsojQAB</td>\n",
       "      <td>Consumer Goods</td>\n",
       "      <td>PLATFORM</td>\n",
       "      <td>SPOT</td>\n",
       "      <td>cross-border</td>\n",
       "      <td>1</td>\n",
       "      <td>2998.12500</td>\n",
       "      <td>2844.37500</td>\n",
       "      <td>1</td>\n",
       "      <td>153.75000</td>\n",
       "      <td>153.75000</td>\n",
       "      <td>2998.12500</td>\n",
       "      <td>2844.37500</td>\n",
       "    </tr>\n",
       "    <tr>\n",
       "      <th>64</th>\n",
       "      <td>0010O00002BF1aSQAT</td>\n",
       "      <td>Consumer Goods</td>\n",
       "      <td>MANUAL</td>\n",
       "      <td>CONTRACT</td>\n",
       "      <td>domestic</td>\n",
       "      <td>3</td>\n",
       "      <td>1687.32000</td>\n",
       "      <td>2265.00000</td>\n",
       "      <td>1</td>\n",
       "      <td>-577.68000</td>\n",
       "      <td>-192.56000</td>\n",
       "      <td>562.44000</td>\n",
       "      <td>755.00000</td>\n",
       "    </tr>\n",
       "    <tr>\n",
       "      <th>79</th>\n",
       "      <td>0010O00002E9BbyQAF</td>\n",
       "      <td>Consumer Goods</td>\n",
       "      <td>PLATFORM</td>\n",
       "      <td>CONTRACT</td>\n",
       "      <td>domestic</td>\n",
       "      <td>40</td>\n",
       "      <td>37294.67300</td>\n",
       "      <td>36852.37500</td>\n",
       "      <td>1</td>\n",
       "      <td>442.29800</td>\n",
       "      <td>11.05745</td>\n",
       "      <td>932.36683</td>\n",
       "      <td>921.30938</td>\n",
       "    </tr>\n",
       "    <tr>\n",
       "      <th>80</th>\n",
       "      <td>0010O00002BjsojQAB</td>\n",
       "      <td>Consumer Goods</td>\n",
       "      <td>PLATFORM</td>\n",
       "      <td>CONTRACT</td>\n",
       "      <td>cross-border</td>\n",
       "      <td>41</td>\n",
       "      <td>71347.68750</td>\n",
       "      <td>81379.87500</td>\n",
       "      <td>1</td>\n",
       "      <td>-10032.18750</td>\n",
       "      <td>-244.68750</td>\n",
       "      <td>1740.18750</td>\n",
       "      <td>1984.87500</td>\n",
       "    </tr>\n",
       "    <tr>\n",
       "      <th>104</th>\n",
       "      <td>0010O00002BF1aSQAT</td>\n",
       "      <td>Consumer Goods</td>\n",
       "      <td>MANUAL</td>\n",
       "      <td>CONTRACT</td>\n",
       "      <td>cross-border</td>\n",
       "      <td>5</td>\n",
       "      <td>2130.00000</td>\n",
       "      <td>2150.00000</td>\n",
       "      <td>1</td>\n",
       "      <td>-20.00000</td>\n",
       "      <td>-4.00000</td>\n",
       "      <td>426.00000</td>\n",
       "      <td>430.00000</td>\n",
       "    </tr>\n",
       "    <tr>\n",
       "      <th>110</th>\n",
       "      <td>0010O00002BF1aSQAT</td>\n",
       "      <td>Consumer Goods</td>\n",
       "      <td>PLATFORM</td>\n",
       "      <td>CONTRACT</td>\n",
       "      <td>domestic</td>\n",
       "      <td>217</td>\n",
       "      <td>119992.58000</td>\n",
       "      <td>133295.00000</td>\n",
       "      <td>1</td>\n",
       "      <td>-13302.42000</td>\n",
       "      <td>-61.30147</td>\n",
       "      <td>552.96120</td>\n",
       "      <td>614.26267</td>\n",
       "    </tr>\n",
       "    <tr>\n",
       "      <th>116</th>\n",
       "      <td>0010O00002E9BbyQAF</td>\n",
       "      <td>Consumer Goods</td>\n",
       "      <td>PLATFORM</td>\n",
       "      <td>CONTRACT</td>\n",
       "      <td>cross-border</td>\n",
       "      <td>128</td>\n",
       "      <td>227286.70138</td>\n",
       "      <td>238193.87500</td>\n",
       "      <td>1</td>\n",
       "      <td>-10907.17363</td>\n",
       "      <td>-85.21229</td>\n",
       "      <td>1775.67735</td>\n",
       "      <td>1860.88965</td>\n",
       "    </tr>\n",
       "    <tr>\n",
       "      <th>122</th>\n",
       "      <td>0010O00002E9BbyQAF</td>\n",
       "      <td>Consumer Goods</td>\n",
       "      <td>PLATFORM</td>\n",
       "      <td>SPOT</td>\n",
       "      <td>cross-border</td>\n",
       "      <td>2</td>\n",
       "      <td>5967.96500</td>\n",
       "      <td>7089.00000</td>\n",
       "      <td>1</td>\n",
       "      <td>-1121.03500</td>\n",
       "      <td>-560.51750</td>\n",
       "      <td>2983.98250</td>\n",
       "      <td>3544.50000</td>\n",
       "    </tr>\n",
       "    <tr>\n",
       "      <th>126</th>\n",
       "      <td>0010O00002E9BbyQAF</td>\n",
       "      <td>Consumer Goods</td>\n",
       "      <td>MANUAL</td>\n",
       "      <td>CONTRACT</td>\n",
       "      <td>domestic</td>\n",
       "      <td>4</td>\n",
       "      <td>3595.26975</td>\n",
       "      <td>4065.75000</td>\n",
       "      <td>1</td>\n",
       "      <td>-470.48025</td>\n",
       "      <td>-117.62006</td>\n",
       "      <td>898.81744</td>\n",
       "      <td>1016.43750</td>\n",
       "    </tr>\n",
       "    <tr>\n",
       "      <th>127</th>\n",
       "      <td>0010O00002E9BbyQAF</td>\n",
       "      <td>Consumer Goods</td>\n",
       "      <td>MANUAL</td>\n",
       "      <td>CONTRACT</td>\n",
       "      <td>cross-border</td>\n",
       "      <td>6</td>\n",
       "      <td>9645.71388</td>\n",
       "      <td>11015.75000</td>\n",
       "      <td>1</td>\n",
       "      <td>-1370.03613</td>\n",
       "      <td>-228.33935</td>\n",
       "      <td>1607.61898</td>\n",
       "      <td>1835.95833</td>\n",
       "    </tr>\n",
       "    <tr>\n",
       "      <th>148</th>\n",
       "      <td>0010O00002E9BbyQAF</td>\n",
       "      <td>Consumer Goods</td>\n",
       "      <td>PLATFORM</td>\n",
       "      <td>CONTRACT</td>\n",
       "      <td>cross-border</td>\n",
       "      <td>108</td>\n",
       "      <td>180192.47625</td>\n",
       "      <td>179449.00000</td>\n",
       "      <td>2</td>\n",
       "      <td>743.47625</td>\n",
       "      <td>6.88404</td>\n",
       "      <td>1668.44885</td>\n",
       "      <td>1661.56481</td>\n",
       "    </tr>\n",
       "    <tr>\n",
       "      <th>150</th>\n",
       "      <td>0010O00002BF1aSQAT</td>\n",
       "      <td>Consumer Goods</td>\n",
       "      <td>PLATFORM</td>\n",
       "      <td>CONTRACT</td>\n",
       "      <td>cross-border</td>\n",
       "      <td>58</td>\n",
       "      <td>33815.00000</td>\n",
       "      <td>33585.00000</td>\n",
       "      <td>2</td>\n",
       "      <td>230.00000</td>\n",
       "      <td>3.96552</td>\n",
       "      <td>583.01724</td>\n",
       "      <td>579.05172</td>\n",
       "    </tr>\n",
       "    <tr>\n",
       "      <th>155</th>\n",
       "      <td>0010O00002E9BbyQAF</td>\n",
       "      <td>Consumer Goods</td>\n",
       "      <td>MANUAL</td>\n",
       "      <td>CONTRACT</td>\n",
       "      <td>domestic</td>\n",
       "      <td>3</td>\n",
       "      <td>2658.37500</td>\n",
       "      <td>2571.50000</td>\n",
       "      <td>2</td>\n",
       "      <td>86.87500</td>\n",
       "      <td>28.95833</td>\n",
       "      <td>886.12500</td>\n",
       "      <td>857.16667</td>\n",
       "    </tr>\n",
       "    <tr>\n",
       "      <th>159</th>\n",
       "      <td>0010O00002BF1aSQAT</td>\n",
       "      <td>Consumer Goods</td>\n",
       "      <td>PLATFORM</td>\n",
       "      <td>CONTRACT</td>\n",
       "      <td>domestic</td>\n",
       "      <td>173</td>\n",
       "      <td>87230.55000</td>\n",
       "      <td>91730.00000</td>\n",
       "      <td>2</td>\n",
       "      <td>-4499.45000</td>\n",
       "      <td>-26.00838</td>\n",
       "      <td>504.22283</td>\n",
       "      <td>530.23121</td>\n",
       "    </tr>\n",
       "    <tr>\n",
       "      <th>171</th>\n",
       "      <td>0013Y00002Sjx0wQAB</td>\n",
       "      <td>Consumer Goods</td>\n",
       "      <td>PLATFORM</td>\n",
       "      <td>CONTRACT</td>\n",
       "      <td>cross-border</td>\n",
       "      <td>1</td>\n",
       "      <td>972.53750</td>\n",
       "      <td>937.75000</td>\n",
       "      <td>2</td>\n",
       "      <td>34.78750</td>\n",
       "      <td>34.78750</td>\n",
       "      <td>972.53750</td>\n",
       "      <td>937.75000</td>\n",
       "    </tr>\n",
       "    <tr>\n",
       "      <th>183</th>\n",
       "      <td>0010O00002BF1aSQAT</td>\n",
       "      <td>Consumer Goods</td>\n",
       "      <td>MANUAL</td>\n",
       "      <td>SPOT</td>\n",
       "      <td>cross-border</td>\n",
       "      <td>2</td>\n",
       "      <td>3080.00000</td>\n",
       "      <td>2750.00000</td>\n",
       "      <td>2</td>\n",
       "      <td>330.00000</td>\n",
       "      <td>165.00000</td>\n",
       "      <td>1540.00000</td>\n",
       "      <td>1375.00000</td>\n",
       "    </tr>\n",
       "    <tr>\n",
       "      <th>192</th>\n",
       "      <td>0013Y00002ZJA6vQAH</td>\n",
       "      <td>Consumer Goods</td>\n",
       "      <td>PLATFORM</td>\n",
       "      <td>CONTRACT</td>\n",
       "      <td>domestic</td>\n",
       "      <td>1</td>\n",
       "      <td>877.50000</td>\n",
       "      <td>843.75000</td>\n",
       "      <td>2</td>\n",
       "      <td>33.75000</td>\n",
       "      <td>33.75000</td>\n",
       "      <td>877.50000</td>\n",
       "      <td>843.75000</td>\n",
       "    </tr>\n",
       "    <tr>\n",
       "      <th>199</th>\n",
       "      <td>0010O00002BF1aSQAT</td>\n",
       "      <td>Consumer Goods</td>\n",
       "      <td>MANUAL</td>\n",
       "      <td>CONTRACT</td>\n",
       "      <td>domestic</td>\n",
       "      <td>7</td>\n",
       "      <td>3557.81000</td>\n",
       "      <td>3790.00000</td>\n",
       "      <td>2</td>\n",
       "      <td>-232.19000</td>\n",
       "      <td>-33.17000</td>\n",
       "      <td>508.25857</td>\n",
       "      <td>541.42857</td>\n",
       "    </tr>\n",
       "    <tr>\n",
       "      <th>203</th>\n",
       "      <td>0010O00002E9BbyQAF</td>\n",
       "      <td>Consumer Goods</td>\n",
       "      <td>PLATFORM</td>\n",
       "      <td>CONTRACT</td>\n",
       "      <td>domestic</td>\n",
       "      <td>43</td>\n",
       "      <td>39570.79800</td>\n",
       "      <td>38954.75000</td>\n",
       "      <td>2</td>\n",
       "      <td>616.04800</td>\n",
       "      <td>14.32670</td>\n",
       "      <td>920.25112</td>\n",
       "      <td>905.92442</td>\n",
       "    </tr>\n",
       "    <tr>\n",
       "      <th>228</th>\n",
       "      <td>0010O00002BF1aSQAT</td>\n",
       "      <td>Consumer Goods</td>\n",
       "      <td>MANUAL</td>\n",
       "      <td>CONTRACT</td>\n",
       "      <td>cross-border</td>\n",
       "      <td>2</td>\n",
       "      <td>1200.00000</td>\n",
       "      <td>1160.00000</td>\n",
       "      <td>2</td>\n",
       "      <td>40.00000</td>\n",
       "      <td>20.00000</td>\n",
       "      <td>600.00000</td>\n",
       "      <td>580.00000</td>\n",
       "    </tr>\n",
       "    <tr>\n",
       "      <th>239</th>\n",
       "      <td>0013Y00002QBH2iQAH</td>\n",
       "      <td>Consumer Goods</td>\n",
       "      <td>PLATFORM</td>\n",
       "      <td>CONTRACT</td>\n",
       "      <td>cross-border</td>\n",
       "      <td>6</td>\n",
       "      <td>19017.66250</td>\n",
       "      <td>19673.00000</td>\n",
       "      <td>2</td>\n",
       "      <td>-655.33750</td>\n",
       "      <td>-109.22292</td>\n",
       "      <td>3169.61042</td>\n",
       "      <td>3278.83333</td>\n",
       "    </tr>\n",
       "    <tr>\n",
       "      <th>246</th>\n",
       "      <td>0010O00002BjsojQAB</td>\n",
       "      <td>Consumer Goods</td>\n",
       "      <td>PLATFORM</td>\n",
       "      <td>CONTRACT</td>\n",
       "      <td>cross-border</td>\n",
       "      <td>28</td>\n",
       "      <td>46394.06250</td>\n",
       "      <td>54218.40000</td>\n",
       "      <td>2</td>\n",
       "      <td>-7824.33750</td>\n",
       "      <td>-279.44063</td>\n",
       "      <td>1656.93080</td>\n",
       "      <td>1936.37143</td>\n",
       "    </tr>\n",
       "    <tr>\n",
       "      <th>269</th>\n",
       "      <td>0010O00002E9BbyQAF</td>\n",
       "      <td>Consumer Goods</td>\n",
       "      <td>MANUAL</td>\n",
       "      <td>CONTRACT</td>\n",
       "      <td>cross-border</td>\n",
       "      <td>3</td>\n",
       "      <td>5551.19088</td>\n",
       "      <td>5212.50000</td>\n",
       "      <td>2</td>\n",
       "      <td>338.69087</td>\n",
       "      <td>112.89696</td>\n",
       "      <td>1850.39696</td>\n",
       "      <td>1737.50000</td>\n",
       "    </tr>\n",
       "    <tr>\n",
       "      <th>278</th>\n",
       "      <td>0010O00002E9BbyQAF</td>\n",
       "      <td>Consumer Goods</td>\n",
       "      <td>PLATFORM</td>\n",
       "      <td>CONTRACT</td>\n",
       "      <td>cross-border</td>\n",
       "      <td>226</td>\n",
       "      <td>406710.71613</td>\n",
       "      <td>432114.51250</td>\n",
       "      <td>3</td>\n",
       "      <td>-25403.79637</td>\n",
       "      <td>-112.40618</td>\n",
       "      <td>1799.60494</td>\n",
       "      <td>1912.01112</td>\n",
       "    </tr>\n",
       "    <tr>\n",
       "      <th>285</th>\n",
       "      <td>0010O00002BF1aSQAT</td>\n",
       "      <td>Consumer Goods</td>\n",
       "      <td>MANUAL</td>\n",
       "      <td>SPOT</td>\n",
       "      <td>domestic</td>\n",
       "      <td>2</td>\n",
       "      <td>744.80000</td>\n",
       "      <td>1105.00000</td>\n",
       "      <td>3</td>\n",
       "      <td>-360.20000</td>\n",
       "      <td>-180.10000</td>\n",
       "      <td>372.40000</td>\n",
       "      <td>552.50000</td>\n",
       "    </tr>\n",
       "    <tr>\n",
       "      <th>287</th>\n",
       "      <td>0010O00002Ol0CLQAZ</td>\n",
       "      <td>Consumer Goods</td>\n",
       "      <td>PLATFORM</td>\n",
       "      <td>SPOT</td>\n",
       "      <td>cross-border</td>\n",
       "      <td>1</td>\n",
       "      <td>988.75000</td>\n",
       "      <td>1006.25000</td>\n",
       "      <td>3</td>\n",
       "      <td>-17.50000</td>\n",
       "      <td>-17.50000</td>\n",
       "      <td>988.75000</td>\n",
       "      <td>1006.25000</td>\n",
       "    </tr>\n",
       "    <tr>\n",
       "      <th>288</th>\n",
       "      <td>0010O00002E9BbyQAF</td>\n",
       "      <td>Consumer Goods</td>\n",
       "      <td>PLATFORM</td>\n",
       "      <td>SPOT</td>\n",
       "      <td>cross-border</td>\n",
       "      <td>1</td>\n",
       "      <td>1204.08750</td>\n",
       "      <td>1181.50000</td>\n",
       "      <td>3</td>\n",
       "      <td>22.58750</td>\n",
       "      <td>22.58750</td>\n",
       "      <td>1204.08750</td>\n",
       "      <td>1181.50000</td>\n",
       "    </tr>\n",
       "    <tr>\n",
       "      <th>302</th>\n",
       "      <td>0010O00001s4Cg9QAE</td>\n",
       "      <td>Consumer Goods</td>\n",
       "      <td>PLATFORM</td>\n",
       "      <td>SPOT</td>\n",
       "      <td>domestic</td>\n",
       "      <td>1</td>\n",
       "      <td>811.96800</td>\n",
       "      <td>768.00000</td>\n",
       "      <td>3</td>\n",
       "      <td>43.96800</td>\n",
       "      <td>43.96800</td>\n",
       "      <td>811.96800</td>\n",
       "      <td>768.00000</td>\n",
       "    </tr>\n",
       "    <tr>\n",
       "      <th>314</th>\n",
       "      <td>0010O00002BF1aSQAT</td>\n",
       "      <td>Consumer Goods</td>\n",
       "      <td>PLATFORM</td>\n",
       "      <td>CONTRACT</td>\n",
       "      <td>domestic</td>\n",
       "      <td>38</td>\n",
       "      <td>18166.97000</td>\n",
       "      <td>21265.00000</td>\n",
       "      <td>3</td>\n",
       "      <td>-3098.03000</td>\n",
       "      <td>-81.52711</td>\n",
       "      <td>478.07816</td>\n",
       "      <td>559.60526</td>\n",
       "    </tr>\n",
       "    <tr>\n",
       "      <th>317</th>\n",
       "      <td>0013Y00002ZJA6vQAH</td>\n",
       "      <td>Consumer Goods</td>\n",
       "      <td>PLATFORM</td>\n",
       "      <td>CONTRACT</td>\n",
       "      <td>domestic</td>\n",
       "      <td>6</td>\n",
       "      <td>5265.00000</td>\n",
       "      <td>5146.87500</td>\n",
       "      <td>3</td>\n",
       "      <td>118.12500</td>\n",
       "      <td>19.68750</td>\n",
       "      <td>877.50000</td>\n",
       "      <td>857.81250</td>\n",
       "    </tr>\n",
       "    <tr>\n",
       "      <th>318</th>\n",
       "      <td>0010O00002BjsojQAB</td>\n",
       "      <td>Consumer Goods</td>\n",
       "      <td>MANUAL</td>\n",
       "      <td>CONTRACT</td>\n",
       "      <td>cross-border</td>\n",
       "      <td>6</td>\n",
       "      <td>11085.37500</td>\n",
       "      <td>12582.90000</td>\n",
       "      <td>3</td>\n",
       "      <td>-1497.52500</td>\n",
       "      <td>-249.58750</td>\n",
       "      <td>1847.56250</td>\n",
       "      <td>2097.15000</td>\n",
       "    </tr>\n",
       "    <tr>\n",
       "      <th>335</th>\n",
       "      <td>0010O00001s4Cg9QAE</td>\n",
       "      <td>Consumer Goods</td>\n",
       "      <td>PLATFORM</td>\n",
       "      <td>CONTRACT</td>\n",
       "      <td>domestic</td>\n",
       "      <td>1</td>\n",
       "      <td>652.57600</td>\n",
       "      <td>608.00000</td>\n",
       "      <td>3</td>\n",
       "      <td>44.57600</td>\n",
       "      <td>44.57600</td>\n",
       "      <td>652.57600</td>\n",
       "      <td>608.00000</td>\n",
       "    </tr>\n",
       "    <tr>\n",
       "      <th>339</th>\n",
       "      <td>0010O00002E9BbyQAF</td>\n",
       "      <td>Consumer Goods</td>\n",
       "      <td>MANUAL</td>\n",
       "      <td>CONTRACT</td>\n",
       "      <td>domestic</td>\n",
       "      <td>5</td>\n",
       "      <td>4413.25000</td>\n",
       "      <td>5038.75000</td>\n",
       "      <td>3</td>\n",
       "      <td>-625.50000</td>\n",
       "      <td>-125.10000</td>\n",
       "      <td>882.65000</td>\n",
       "      <td>1007.75000</td>\n",
       "    </tr>\n",
       "    <tr>\n",
       "      <th>344</th>\n",
       "      <td>0010O00002BF1aSQAT</td>\n",
       "      <td>Consumer Goods</td>\n",
       "      <td>PLATFORM</td>\n",
       "      <td>CONTRACT</td>\n",
       "      <td>cross-border</td>\n",
       "      <td>6</td>\n",
       "      <td>2920.00000</td>\n",
       "      <td>3300.00000</td>\n",
       "      <td>3</td>\n",
       "      <td>-380.00000</td>\n",
       "      <td>-63.33333</td>\n",
       "      <td>486.66667</td>\n",
       "      <td>550.00000</td>\n",
       "    </tr>\n",
       "    <tr>\n",
       "      <th>349</th>\n",
       "      <td>0010O00002E9BbyQAF</td>\n",
       "      <td>Consumer Goods</td>\n",
       "      <td>PLATFORM</td>\n",
       "      <td>SPOT</td>\n",
       "      <td>domestic</td>\n",
       "      <td>2</td>\n",
       "      <td>2345.62500</td>\n",
       "      <td>2606.25000</td>\n",
       "      <td>3</td>\n",
       "      <td>-260.62500</td>\n",
       "      <td>-130.31250</td>\n",
       "      <td>1172.81250</td>\n",
       "      <td>1303.12500</td>\n",
       "    </tr>\n",
       "    <tr>\n",
       "      <th>365</th>\n",
       "      <td>0010O00002BjsojQAB</td>\n",
       "      <td>Consumer Goods</td>\n",
       "      <td>PLATFORM</td>\n",
       "      <td>CONTRACT</td>\n",
       "      <td>cross-border</td>\n",
       "      <td>19</td>\n",
       "      <td>33863.43750</td>\n",
       "      <td>38185.35000</td>\n",
       "      <td>3</td>\n",
       "      <td>-4321.91250</td>\n",
       "      <td>-227.46908</td>\n",
       "      <td>1782.28618</td>\n",
       "      <td>2009.75526</td>\n",
       "    </tr>\n",
       "    <tr>\n",
       "      <th>373</th>\n",
       "      <td>0013Y00002ZKs4CQAT</td>\n",
       "      <td>Consumer Goods</td>\n",
       "      <td>PLATFORM</td>\n",
       "      <td>SPOT</td>\n",
       "      <td>domestic</td>\n",
       "      <td>1</td>\n",
       "      <td>507.50000</td>\n",
       "      <td>522.00000</td>\n",
       "      <td>3</td>\n",
       "      <td>-14.50000</td>\n",
       "      <td>-14.50000</td>\n",
       "      <td>507.50000</td>\n",
       "      <td>522.00000</td>\n",
       "    </tr>\n",
       "    <tr>\n",
       "      <th>387</th>\n",
       "      <td>0010O00002E9BbyQAF</td>\n",
       "      <td>Consumer Goods</td>\n",
       "      <td>PLATFORM</td>\n",
       "      <td>CONTRACT</td>\n",
       "      <td>domestic</td>\n",
       "      <td>22</td>\n",
       "      <td>20050.75000</td>\n",
       "      <td>22570.12500</td>\n",
       "      <td>3</td>\n",
       "      <td>-2519.37500</td>\n",
       "      <td>-114.51705</td>\n",
       "      <td>911.39773</td>\n",
       "      <td>1025.91477</td>\n",
       "    </tr>\n",
       "    <tr>\n",
       "      <th>393</th>\n",
       "      <td>0010O00002BF1aSQAT</td>\n",
       "      <td>Consumer Goods</td>\n",
       "      <td>MANUAL</td>\n",
       "      <td>CONTRACT</td>\n",
       "      <td>domestic</td>\n",
       "      <td>280</td>\n",
       "      <td>139000.58000</td>\n",
       "      <td>172425.00000</td>\n",
       "      <td>3</td>\n",
       "      <td>-33424.42000</td>\n",
       "      <td>-119.37293</td>\n",
       "      <td>496.43064</td>\n",
       "      <td>615.80357</td>\n",
       "    </tr>\n",
       "    <tr>\n",
       "      <th>418</th>\n",
       "      <td>0010O00002BF1aSQAT</td>\n",
       "      <td>Consumer Goods</td>\n",
       "      <td>MANUAL</td>\n",
       "      <td>CONTRACT</td>\n",
       "      <td>cross-border</td>\n",
       "      <td>50</td>\n",
       "      <td>28605.00000</td>\n",
       "      <td>30390.00000</td>\n",
       "      <td>3</td>\n",
       "      <td>-1785.00000</td>\n",
       "      <td>-35.70000</td>\n",
       "      <td>572.10000</td>\n",
       "      <td>607.80000</td>\n",
       "    </tr>\n",
       "    <tr>\n",
       "      <th>436</th>\n",
       "      <td>0010O00002E9BbyQAF</td>\n",
       "      <td>Consumer Goods</td>\n",
       "      <td>MANUAL</td>\n",
       "      <td>CONTRACT</td>\n",
       "      <td>cross-border</td>\n",
       "      <td>16</td>\n",
       "      <td>25930.51950</td>\n",
       "      <td>28269.12500</td>\n",
       "      <td>3</td>\n",
       "      <td>-2338.60550</td>\n",
       "      <td>-146.16284</td>\n",
       "      <td>1620.65747</td>\n",
       "      <td>1766.82031</td>\n",
       "    </tr>\n",
       "  </tbody>\n",
       "</table>\n",
       "</div>"
      ],
      "text/plain": [
       "             SHIPPER ID SHIPPER CATEGORY LOAD CATEGORY ORDER_TYPE  \\\n",
       "14   0013Y00002QBH2iQAH   Consumer Goods      PLATFORM   CONTRACT   \n",
       "21   0010O00002BF1aSQAT   Consumer Goods        MANUAL       SPOT   \n",
       "27   0013Y00002Sjx0wQAB   Consumer Goods      PLATFORM   CONTRACT   \n",
       "34   0010O00002BF1aSQAT   Consumer Goods      PLATFORM   CONTRACT   \n",
       "61   0010O00002BjsojQAB   Consumer Goods      PLATFORM       SPOT   \n",
       "64   0010O00002BF1aSQAT   Consumer Goods        MANUAL   CONTRACT   \n",
       "79   0010O00002E9BbyQAF   Consumer Goods      PLATFORM   CONTRACT   \n",
       "80   0010O00002BjsojQAB   Consumer Goods      PLATFORM   CONTRACT   \n",
       "104  0010O00002BF1aSQAT   Consumer Goods        MANUAL   CONTRACT   \n",
       "110  0010O00002BF1aSQAT   Consumer Goods      PLATFORM   CONTRACT   \n",
       "116  0010O00002E9BbyQAF   Consumer Goods      PLATFORM   CONTRACT   \n",
       "122  0010O00002E9BbyQAF   Consumer Goods      PLATFORM       SPOT   \n",
       "126  0010O00002E9BbyQAF   Consumer Goods        MANUAL   CONTRACT   \n",
       "127  0010O00002E9BbyQAF   Consumer Goods        MANUAL   CONTRACT   \n",
       "148  0010O00002E9BbyQAF   Consumer Goods      PLATFORM   CONTRACT   \n",
       "150  0010O00002BF1aSQAT   Consumer Goods      PLATFORM   CONTRACT   \n",
       "155  0010O00002E9BbyQAF   Consumer Goods        MANUAL   CONTRACT   \n",
       "159  0010O00002BF1aSQAT   Consumer Goods      PLATFORM   CONTRACT   \n",
       "171  0013Y00002Sjx0wQAB   Consumer Goods      PLATFORM   CONTRACT   \n",
       "183  0010O00002BF1aSQAT   Consumer Goods        MANUAL       SPOT   \n",
       "192  0013Y00002ZJA6vQAH   Consumer Goods      PLATFORM   CONTRACT   \n",
       "199  0010O00002BF1aSQAT   Consumer Goods        MANUAL   CONTRACT   \n",
       "203  0010O00002E9BbyQAF   Consumer Goods      PLATFORM   CONTRACT   \n",
       "228  0010O00002BF1aSQAT   Consumer Goods        MANUAL   CONTRACT   \n",
       "239  0013Y00002QBH2iQAH   Consumer Goods      PLATFORM   CONTRACT   \n",
       "246  0010O00002BjsojQAB   Consumer Goods      PLATFORM   CONTRACT   \n",
       "269  0010O00002E9BbyQAF   Consumer Goods        MANUAL   CONTRACT   \n",
       "278  0010O00002E9BbyQAF   Consumer Goods      PLATFORM   CONTRACT   \n",
       "285  0010O00002BF1aSQAT   Consumer Goods        MANUAL       SPOT   \n",
       "287  0010O00002Ol0CLQAZ   Consumer Goods      PLATFORM       SPOT   \n",
       "288  0010O00002E9BbyQAF   Consumer Goods      PLATFORM       SPOT   \n",
       "302  0010O00001s4Cg9QAE   Consumer Goods      PLATFORM       SPOT   \n",
       "314  0010O00002BF1aSQAT   Consumer Goods      PLATFORM   CONTRACT   \n",
       "317  0013Y00002ZJA6vQAH   Consumer Goods      PLATFORM   CONTRACT   \n",
       "318  0010O00002BjsojQAB   Consumer Goods        MANUAL   CONTRACT   \n",
       "335  0010O00001s4Cg9QAE   Consumer Goods      PLATFORM   CONTRACT   \n",
       "339  0010O00002E9BbyQAF   Consumer Goods        MANUAL   CONTRACT   \n",
       "344  0010O00002BF1aSQAT   Consumer Goods      PLATFORM   CONTRACT   \n",
       "349  0010O00002E9BbyQAF   Consumer Goods      PLATFORM       SPOT   \n",
       "365  0010O00002BjsojQAB   Consumer Goods      PLATFORM   CONTRACT   \n",
       "373  0013Y00002ZKs4CQAT   Consumer Goods      PLATFORM       SPOT   \n",
       "387  0010O00002E9BbyQAF   Consumer Goods      PLATFORM   CONTRACT   \n",
       "393  0010O00002BF1aSQAT   Consumer Goods        MANUAL   CONTRACT   \n",
       "418  0010O00002BF1aSQAT   Consumer Goods        MANUAL   CONTRACT   \n",
       "436  0010O00002E9BbyQAF   Consumer Goods        MANUAL   CONTRACT   \n",
       "\n",
       "    DOMESTIC_VS_CROSS_BORDER  LOADS  SHIPPER_PRICE (REVENUE)  \\\n",
       "14              cross-border      4              12643.14700   \n",
       "21              cross-border      2               1040.00000   \n",
       "27              cross-border      6               6115.03750   \n",
       "34              cross-border     39              22745.00000   \n",
       "61              cross-border      1               2998.12500   \n",
       "64                  domestic      3               1687.32000   \n",
       "79                  domestic     40              37294.67300   \n",
       "80              cross-border     41              71347.68750   \n",
       "104             cross-border      5               2130.00000   \n",
       "110                 domestic    217             119992.58000   \n",
       "116             cross-border    128             227286.70138   \n",
       "122             cross-border      2               5967.96500   \n",
       "126                 domestic      4               3595.26975   \n",
       "127             cross-border      6               9645.71388   \n",
       "148             cross-border    108             180192.47625   \n",
       "150             cross-border     58              33815.00000   \n",
       "155                 domestic      3               2658.37500   \n",
       "159                 domestic    173              87230.55000   \n",
       "171             cross-border      1                972.53750   \n",
       "183             cross-border      2               3080.00000   \n",
       "192                 domestic      1                877.50000   \n",
       "199                 domestic      7               3557.81000   \n",
       "203                 domestic     43              39570.79800   \n",
       "228             cross-border      2               1200.00000   \n",
       "239             cross-border      6              19017.66250   \n",
       "246             cross-border     28              46394.06250   \n",
       "269             cross-border      3               5551.19088   \n",
       "278             cross-border    226             406710.71613   \n",
       "285                 domestic      2                744.80000   \n",
       "287             cross-border      1                988.75000   \n",
       "288             cross-border      1               1204.08750   \n",
       "302                 domestic      1                811.96800   \n",
       "314                 domestic     38              18166.97000   \n",
       "317                 domestic      6               5265.00000   \n",
       "318             cross-border      6              11085.37500   \n",
       "335                 domestic      1                652.57600   \n",
       "339                 domestic      5               4413.25000   \n",
       "344             cross-border      6               2920.00000   \n",
       "349                 domestic      2               2345.62500   \n",
       "365             cross-border     19              33863.43750   \n",
       "373                 domestic      1                507.50000   \n",
       "387                 domestic     22              20050.75000   \n",
       "393                 domestic    280             139000.58000   \n",
       "418             cross-border     50              28605.00000   \n",
       "436             cross-border     16              25930.51950   \n",
       "\n",
       "     CARRIER_PRICE (COST)  MONTH       PROFIT  AVG_PROFIT_LOAD  AVG_REV_LOAD  \\\n",
       "14            12746.25000      1   -103.10300        -25.77575    3160.78675   \n",
       "21             1000.00000      1     40.00000         20.00000     520.00000   \n",
       "27             6881.87500      1   -766.83750       -127.80625    1019.17292   \n",
       "34            24625.00000      1  -1880.00000        -48.20513     583.20513   \n",
       "61             2844.37500      1    153.75000        153.75000    2998.12500   \n",
       "64             2265.00000      1   -577.68000       -192.56000     562.44000   \n",
       "79            36852.37500      1    442.29800         11.05745     932.36683   \n",
       "80            81379.87500      1 -10032.18750       -244.68750    1740.18750   \n",
       "104            2150.00000      1    -20.00000         -4.00000     426.00000   \n",
       "110          133295.00000      1 -13302.42000        -61.30147     552.96120   \n",
       "116          238193.87500      1 -10907.17363        -85.21229    1775.67735   \n",
       "122            7089.00000      1  -1121.03500       -560.51750    2983.98250   \n",
       "126            4065.75000      1   -470.48025       -117.62006     898.81744   \n",
       "127           11015.75000      1  -1370.03613       -228.33935    1607.61898   \n",
       "148          179449.00000      2    743.47625          6.88404    1668.44885   \n",
       "150           33585.00000      2    230.00000          3.96552     583.01724   \n",
       "155            2571.50000      2     86.87500         28.95833     886.12500   \n",
       "159           91730.00000      2  -4499.45000        -26.00838     504.22283   \n",
       "171             937.75000      2     34.78750         34.78750     972.53750   \n",
       "183            2750.00000      2    330.00000        165.00000    1540.00000   \n",
       "192             843.75000      2     33.75000         33.75000     877.50000   \n",
       "199            3790.00000      2   -232.19000        -33.17000     508.25857   \n",
       "203           38954.75000      2    616.04800         14.32670     920.25112   \n",
       "228            1160.00000      2     40.00000         20.00000     600.00000   \n",
       "239           19673.00000      2   -655.33750       -109.22292    3169.61042   \n",
       "246           54218.40000      2  -7824.33750       -279.44063    1656.93080   \n",
       "269            5212.50000      2    338.69087        112.89696    1850.39696   \n",
       "278          432114.51250      3 -25403.79637       -112.40618    1799.60494   \n",
       "285            1105.00000      3   -360.20000       -180.10000     372.40000   \n",
       "287            1006.25000      3    -17.50000        -17.50000     988.75000   \n",
       "288            1181.50000      3     22.58750         22.58750    1204.08750   \n",
       "302             768.00000      3     43.96800         43.96800     811.96800   \n",
       "314           21265.00000      3  -3098.03000        -81.52711     478.07816   \n",
       "317            5146.87500      3    118.12500         19.68750     877.50000   \n",
       "318           12582.90000      3  -1497.52500       -249.58750    1847.56250   \n",
       "335             608.00000      3     44.57600         44.57600     652.57600   \n",
       "339            5038.75000      3   -625.50000       -125.10000     882.65000   \n",
       "344            3300.00000      3   -380.00000        -63.33333     486.66667   \n",
       "349            2606.25000      3   -260.62500       -130.31250    1172.81250   \n",
       "365           38185.35000      3  -4321.91250       -227.46908    1782.28618   \n",
       "373             522.00000      3    -14.50000        -14.50000     507.50000   \n",
       "387           22570.12500      3  -2519.37500       -114.51705     911.39773   \n",
       "393          172425.00000      3 -33424.42000       -119.37293     496.43064   \n",
       "418           30390.00000      3  -1785.00000        -35.70000     572.10000   \n",
       "436           28269.12500      3  -2338.60550       -146.16284    1620.65747   \n",
       "\n",
       "     AVG_EXP_LOAD  \n",
       "14     3186.56250  \n",
       "21      500.00000  \n",
       "27     1146.97917  \n",
       "34      631.41026  \n",
       "61     2844.37500  \n",
       "64      755.00000  \n",
       "79      921.30938  \n",
       "80     1984.87500  \n",
       "104     430.00000  \n",
       "110     614.26267  \n",
       "116    1860.88965  \n",
       "122    3544.50000  \n",
       "126    1016.43750  \n",
       "127    1835.95833  \n",
       "148    1661.56481  \n",
       "150     579.05172  \n",
       "155     857.16667  \n",
       "159     530.23121  \n",
       "171     937.75000  \n",
       "183    1375.00000  \n",
       "192     843.75000  \n",
       "199     541.42857  \n",
       "203     905.92442  \n",
       "228     580.00000  \n",
       "239    3278.83333  \n",
       "246    1936.37143  \n",
       "269    1737.50000  \n",
       "278    1912.01112  \n",
       "285     552.50000  \n",
       "287    1006.25000  \n",
       "288    1181.50000  \n",
       "302     768.00000  \n",
       "314     559.60526  \n",
       "317     857.81250  \n",
       "318    2097.15000  \n",
       "335     608.00000  \n",
       "339    1007.75000  \n",
       "344     550.00000  \n",
       "349    1303.12500  \n",
       "365    2009.75526  \n",
       "373     522.00000  \n",
       "387    1025.91477  \n",
       "393     615.80357  \n",
       "418     607.80000  \n",
       "436    1766.82031  "
      ]
     },
     "execution_count": 135,
     "metadata": {},
     "output_type": "execute_result"
    }
   ],
   "source": [
    "con_goods"
   ]
  },
  {
   "cell_type": "code",
   "execution_count": null,
   "metadata": {},
   "outputs": [],
   "source": []
  },
  {
   "cell_type": "code",
   "execution_count": null,
   "metadata": {},
   "outputs": [],
   "source": []
  },
  {
   "cell_type": "code",
   "execution_count": null,
   "metadata": {},
   "outputs": [],
   "source": []
  },
  {
   "cell_type": "code",
   "execution_count": 194,
   "metadata": {},
   "outputs": [
    {
     "data": {
      "text/plain": [
       "-126490.32525"
      ]
     },
     "execution_count": 194,
     "metadata": {},
     "output_type": "execute_result"
    }
   ],
   "source": [
    "con_goods['SHIPPER_PRICE (REVENUE)'].sum() - con_goods['CARRIER_PRICE (COST)'].sum()"
   ]
  },
  {
   "cell_type": "code",
   "execution_count": 201,
   "metadata": {},
   "outputs": [],
   "source": [
    "# CHECK THIS STEP WRT TO LOADS BEING TOTAL LOADS AND NOT JUST THE COUNT OF ROWS!??\n",
    "con_goods_shippers = con_goods.groupby('SHIPPER ID')['LOADS'].max().sort_values(ascending=False)"
   ]
  },
  {
   "cell_type": "code",
   "execution_count": 202,
   "metadata": {},
   "outputs": [
    {
     "data": {
      "text/plain": [
       "SHIPPER ID\n",
       "0010O00002BF1aSQAT    280\n",
       "0010O00002E9BbyQAF    226\n",
       "0010O00002BjsojQAB     41\n",
       "0013Y00002QBH2iQAH      6\n",
       "0013Y00002Sjx0wQAB      6\n",
       "0013Y00002ZJA6vQAH      6\n",
       "0010O00001s4Cg9QAE      1\n",
       "0010O00002Ol0CLQAZ      1\n",
       "0013Y00002ZKs4CQAT      1\n",
       "Name: LOADS, dtype: int64"
      ]
     },
     "execution_count": 202,
     "metadata": {},
     "output_type": "execute_result"
    }
   ],
   "source": [
    "con_goods_shippers"
   ]
  },
  {
   "cell_type": "markdown",
   "metadata": {},
   "source": [
    "So just 9 shippers make up the consumer goods division, to note are the two highest groups, lets examine them more closely"
   ]
  },
  {
   "cell_type": "code",
   "execution_count": 203,
   "metadata": {},
   "outputs": [
    {
     "data": {
      "text/html": [
       "<div>\n",
       "<style scoped>\n",
       "    .dataframe tbody tr th:only-of-type {\n",
       "        vertical-align: middle;\n",
       "    }\n",
       "\n",
       "    .dataframe tbody tr th {\n",
       "        vertical-align: top;\n",
       "    }\n",
       "\n",
       "    .dataframe thead th {\n",
       "        text-align: right;\n",
       "    }\n",
       "</style>\n",
       "<table border=\"1\" class=\"dataframe\">\n",
       "  <thead>\n",
       "    <tr style=\"text-align: right;\">\n",
       "      <th></th>\n",
       "      <th>PICKUP_MONTH</th>\n",
       "      <th>SHIPPER ID</th>\n",
       "      <th>SHIPPER CATEGORY</th>\n",
       "      <th>LOAD CATEGORY</th>\n",
       "      <th>ORDER_TYPE</th>\n",
       "      <th>DOMESTIC_VS_CROSS_BORDER</th>\n",
       "      <th>LOADS</th>\n",
       "      <th>SHIPPER_PRICE (REVENUE)</th>\n",
       "      <th>CARRIER_PRICE (COST)</th>\n",
       "      <th>MONTH</th>\n",
       "      <th>PROFIT</th>\n",
       "      <th>AVG_PROFIT_LOAD</th>\n",
       "      <th>AVG_REV_LOAD</th>\n",
       "      <th>AVG_EXP_LOAD</th>\n",
       "      <th>MARGIN</th>\n",
       "    </tr>\n",
       "  </thead>\n",
       "  <tbody>\n",
       "    <tr>\n",
       "      <th>21</th>\n",
       "      <td>2020-01-01</td>\n",
       "      <td>0010O00002BF1aSQAT</td>\n",
       "      <td>Consumer Goods</td>\n",
       "      <td>MANUAL</td>\n",
       "      <td>SPOT</td>\n",
       "      <td>cross-border</td>\n",
       "      <td>2</td>\n",
       "      <td>1040.00000</td>\n",
       "      <td>1000.00000</td>\n",
       "      <td>1</td>\n",
       "      <td>40.00000</td>\n",
       "      <td>20.00000</td>\n",
       "      <td>520.00000</td>\n",
       "      <td>500.00000</td>\n",
       "      <td>3.84615</td>\n",
       "    </tr>\n",
       "    <tr>\n",
       "      <th>34</th>\n",
       "      <td>2020-01-01</td>\n",
       "      <td>0010O00002BF1aSQAT</td>\n",
       "      <td>Consumer Goods</td>\n",
       "      <td>PLATFORM</td>\n",
       "      <td>CONTRACT</td>\n",
       "      <td>cross-border</td>\n",
       "      <td>39</td>\n",
       "      <td>22745.00000</td>\n",
       "      <td>24625.00000</td>\n",
       "      <td>1</td>\n",
       "      <td>-1880.00000</td>\n",
       "      <td>-48.20513</td>\n",
       "      <td>583.20513</td>\n",
       "      <td>631.41026</td>\n",
       "      <td>-8.26555</td>\n",
       "    </tr>\n",
       "    <tr>\n",
       "      <th>64</th>\n",
       "      <td>2020-01-01</td>\n",
       "      <td>0010O00002BF1aSQAT</td>\n",
       "      <td>Consumer Goods</td>\n",
       "      <td>MANUAL</td>\n",
       "      <td>CONTRACT</td>\n",
       "      <td>domestic</td>\n",
       "      <td>3</td>\n",
       "      <td>1687.32000</td>\n",
       "      <td>2265.00000</td>\n",
       "      <td>1</td>\n",
       "      <td>-577.68000</td>\n",
       "      <td>-192.56000</td>\n",
       "      <td>562.44000</td>\n",
       "      <td>755.00000</td>\n",
       "      <td>-34.23654</td>\n",
       "    </tr>\n",
       "    <tr>\n",
       "      <th>104</th>\n",
       "      <td>2020-01-01</td>\n",
       "      <td>0010O00002BF1aSQAT</td>\n",
       "      <td>Consumer Goods</td>\n",
       "      <td>MANUAL</td>\n",
       "      <td>CONTRACT</td>\n",
       "      <td>cross-border</td>\n",
       "      <td>5</td>\n",
       "      <td>2130.00000</td>\n",
       "      <td>2150.00000</td>\n",
       "      <td>1</td>\n",
       "      <td>-20.00000</td>\n",
       "      <td>-4.00000</td>\n",
       "      <td>426.00000</td>\n",
       "      <td>430.00000</td>\n",
       "      <td>-0.93897</td>\n",
       "    </tr>\n",
       "    <tr>\n",
       "      <th>110</th>\n",
       "      <td>2020-01-01</td>\n",
       "      <td>0010O00002BF1aSQAT</td>\n",
       "      <td>Consumer Goods</td>\n",
       "      <td>PLATFORM</td>\n",
       "      <td>CONTRACT</td>\n",
       "      <td>domestic</td>\n",
       "      <td>217</td>\n",
       "      <td>119992.58000</td>\n",
       "      <td>133295.00000</td>\n",
       "      <td>1</td>\n",
       "      <td>-13302.42000</td>\n",
       "      <td>-61.30147</td>\n",
       "      <td>552.96120</td>\n",
       "      <td>614.26267</td>\n",
       "      <td>-11.08604</td>\n",
       "    </tr>\n",
       "    <tr>\n",
       "      <th>150</th>\n",
       "      <td>2020-02-01</td>\n",
       "      <td>0010O00002BF1aSQAT</td>\n",
       "      <td>Consumer Goods</td>\n",
       "      <td>PLATFORM</td>\n",
       "      <td>CONTRACT</td>\n",
       "      <td>cross-border</td>\n",
       "      <td>58</td>\n",
       "      <td>33815.00000</td>\n",
       "      <td>33585.00000</td>\n",
       "      <td>2</td>\n",
       "      <td>230.00000</td>\n",
       "      <td>3.96552</td>\n",
       "      <td>583.01724</td>\n",
       "      <td>579.05172</td>\n",
       "      <td>0.68017</td>\n",
       "    </tr>\n",
       "    <tr>\n",
       "      <th>159</th>\n",
       "      <td>2020-02-01</td>\n",
       "      <td>0010O00002BF1aSQAT</td>\n",
       "      <td>Consumer Goods</td>\n",
       "      <td>PLATFORM</td>\n",
       "      <td>CONTRACT</td>\n",
       "      <td>domestic</td>\n",
       "      <td>173</td>\n",
       "      <td>87230.55000</td>\n",
       "      <td>91730.00000</td>\n",
       "      <td>2</td>\n",
       "      <td>-4499.45000</td>\n",
       "      <td>-26.00838</td>\n",
       "      <td>504.22283</td>\n",
       "      <td>530.23121</td>\n",
       "      <td>-5.15811</td>\n",
       "    </tr>\n",
       "    <tr>\n",
       "      <th>183</th>\n",
       "      <td>2020-02-01</td>\n",
       "      <td>0010O00002BF1aSQAT</td>\n",
       "      <td>Consumer Goods</td>\n",
       "      <td>MANUAL</td>\n",
       "      <td>SPOT</td>\n",
       "      <td>cross-border</td>\n",
       "      <td>2</td>\n",
       "      <td>3080.00000</td>\n",
       "      <td>2750.00000</td>\n",
       "      <td>2</td>\n",
       "      <td>330.00000</td>\n",
       "      <td>165.00000</td>\n",
       "      <td>1540.00000</td>\n",
       "      <td>1375.00000</td>\n",
       "      <td>10.71429</td>\n",
       "    </tr>\n",
       "    <tr>\n",
       "      <th>199</th>\n",
       "      <td>2020-02-01</td>\n",
       "      <td>0010O00002BF1aSQAT</td>\n",
       "      <td>Consumer Goods</td>\n",
       "      <td>MANUAL</td>\n",
       "      <td>CONTRACT</td>\n",
       "      <td>domestic</td>\n",
       "      <td>7</td>\n",
       "      <td>3557.81000</td>\n",
       "      <td>3790.00000</td>\n",
       "      <td>2</td>\n",
       "      <td>-232.19000</td>\n",
       "      <td>-33.17000</td>\n",
       "      <td>508.25857</td>\n",
       "      <td>541.42857</td>\n",
       "      <td>-6.52621</td>\n",
       "    </tr>\n",
       "    <tr>\n",
       "      <th>228</th>\n",
       "      <td>2020-02-01</td>\n",
       "      <td>0010O00002BF1aSQAT</td>\n",
       "      <td>Consumer Goods</td>\n",
       "      <td>MANUAL</td>\n",
       "      <td>CONTRACT</td>\n",
       "      <td>cross-border</td>\n",
       "      <td>2</td>\n",
       "      <td>1200.00000</td>\n",
       "      <td>1160.00000</td>\n",
       "      <td>2</td>\n",
       "      <td>40.00000</td>\n",
       "      <td>20.00000</td>\n",
       "      <td>600.00000</td>\n",
       "      <td>580.00000</td>\n",
       "      <td>3.33333</td>\n",
       "    </tr>\n",
       "    <tr>\n",
       "      <th>285</th>\n",
       "      <td>2020-03-01</td>\n",
       "      <td>0010O00002BF1aSQAT</td>\n",
       "      <td>Consumer Goods</td>\n",
       "      <td>MANUAL</td>\n",
       "      <td>SPOT</td>\n",
       "      <td>domestic</td>\n",
       "      <td>2</td>\n",
       "      <td>744.80000</td>\n",
       "      <td>1105.00000</td>\n",
       "      <td>3</td>\n",
       "      <td>-360.20000</td>\n",
       "      <td>-180.10000</td>\n",
       "      <td>372.40000</td>\n",
       "      <td>552.50000</td>\n",
       "      <td>-48.36198</td>\n",
       "    </tr>\n",
       "    <tr>\n",
       "      <th>314</th>\n",
       "      <td>2020-03-01</td>\n",
       "      <td>0010O00002BF1aSQAT</td>\n",
       "      <td>Consumer Goods</td>\n",
       "      <td>PLATFORM</td>\n",
       "      <td>CONTRACT</td>\n",
       "      <td>domestic</td>\n",
       "      <td>38</td>\n",
       "      <td>18166.97000</td>\n",
       "      <td>21265.00000</td>\n",
       "      <td>3</td>\n",
       "      <td>-3098.03000</td>\n",
       "      <td>-81.52711</td>\n",
       "      <td>478.07816</td>\n",
       "      <td>559.60526</td>\n",
       "      <td>-17.05309</td>\n",
       "    </tr>\n",
       "    <tr>\n",
       "      <th>344</th>\n",
       "      <td>2020-03-01</td>\n",
       "      <td>0010O00002BF1aSQAT</td>\n",
       "      <td>Consumer Goods</td>\n",
       "      <td>PLATFORM</td>\n",
       "      <td>CONTRACT</td>\n",
       "      <td>cross-border</td>\n",
       "      <td>6</td>\n",
       "      <td>2920.00000</td>\n",
       "      <td>3300.00000</td>\n",
       "      <td>3</td>\n",
       "      <td>-380.00000</td>\n",
       "      <td>-63.33333</td>\n",
       "      <td>486.66667</td>\n",
       "      <td>550.00000</td>\n",
       "      <td>-13.01370</td>\n",
       "    </tr>\n",
       "    <tr>\n",
       "      <th>393</th>\n",
       "      <td>2020-03-01</td>\n",
       "      <td>0010O00002BF1aSQAT</td>\n",
       "      <td>Consumer Goods</td>\n",
       "      <td>MANUAL</td>\n",
       "      <td>CONTRACT</td>\n",
       "      <td>domestic</td>\n",
       "      <td>280</td>\n",
       "      <td>139000.58000</td>\n",
       "      <td>172425.00000</td>\n",
       "      <td>3</td>\n",
       "      <td>-33424.42000</td>\n",
       "      <td>-119.37293</td>\n",
       "      <td>496.43064</td>\n",
       "      <td>615.80357</td>\n",
       "      <td>-24.04624</td>\n",
       "    </tr>\n",
       "    <tr>\n",
       "      <th>418</th>\n",
       "      <td>2020-03-01</td>\n",
       "      <td>0010O00002BF1aSQAT</td>\n",
       "      <td>Consumer Goods</td>\n",
       "      <td>MANUAL</td>\n",
       "      <td>CONTRACT</td>\n",
       "      <td>cross-border</td>\n",
       "      <td>50</td>\n",
       "      <td>28605.00000</td>\n",
       "      <td>30390.00000</td>\n",
       "      <td>3</td>\n",
       "      <td>-1785.00000</td>\n",
       "      <td>-35.70000</td>\n",
       "      <td>572.10000</td>\n",
       "      <td>607.80000</td>\n",
       "      <td>-6.24017</td>\n",
       "    </tr>\n",
       "  </tbody>\n",
       "</table>\n",
       "</div>"
      ],
      "text/plain": [
       "    PICKUP_MONTH          SHIPPER ID SHIPPER CATEGORY LOAD CATEGORY  \\\n",
       "21    2020-01-01  0010O00002BF1aSQAT   Consumer Goods        MANUAL   \n",
       "34    2020-01-01  0010O00002BF1aSQAT   Consumer Goods      PLATFORM   \n",
       "64    2020-01-01  0010O00002BF1aSQAT   Consumer Goods        MANUAL   \n",
       "104   2020-01-01  0010O00002BF1aSQAT   Consumer Goods        MANUAL   \n",
       "110   2020-01-01  0010O00002BF1aSQAT   Consumer Goods      PLATFORM   \n",
       "150   2020-02-01  0010O00002BF1aSQAT   Consumer Goods      PLATFORM   \n",
       "159   2020-02-01  0010O00002BF1aSQAT   Consumer Goods      PLATFORM   \n",
       "183   2020-02-01  0010O00002BF1aSQAT   Consumer Goods        MANUAL   \n",
       "199   2020-02-01  0010O00002BF1aSQAT   Consumer Goods        MANUAL   \n",
       "228   2020-02-01  0010O00002BF1aSQAT   Consumer Goods        MANUAL   \n",
       "285   2020-03-01  0010O00002BF1aSQAT   Consumer Goods        MANUAL   \n",
       "314   2020-03-01  0010O00002BF1aSQAT   Consumer Goods      PLATFORM   \n",
       "344   2020-03-01  0010O00002BF1aSQAT   Consumer Goods      PLATFORM   \n",
       "393   2020-03-01  0010O00002BF1aSQAT   Consumer Goods        MANUAL   \n",
       "418   2020-03-01  0010O00002BF1aSQAT   Consumer Goods        MANUAL   \n",
       "\n",
       "    ORDER_TYPE DOMESTIC_VS_CROSS_BORDER  LOADS  SHIPPER_PRICE (REVENUE)  \\\n",
       "21        SPOT             cross-border      2               1040.00000   \n",
       "34    CONTRACT             cross-border     39              22745.00000   \n",
       "64    CONTRACT                 domestic      3               1687.32000   \n",
       "104   CONTRACT             cross-border      5               2130.00000   \n",
       "110   CONTRACT                 domestic    217             119992.58000   \n",
       "150   CONTRACT             cross-border     58              33815.00000   \n",
       "159   CONTRACT                 domestic    173              87230.55000   \n",
       "183       SPOT             cross-border      2               3080.00000   \n",
       "199   CONTRACT                 domestic      7               3557.81000   \n",
       "228   CONTRACT             cross-border      2               1200.00000   \n",
       "285       SPOT                 domestic      2                744.80000   \n",
       "314   CONTRACT                 domestic     38              18166.97000   \n",
       "344   CONTRACT             cross-border      6               2920.00000   \n",
       "393   CONTRACT                 domestic    280             139000.58000   \n",
       "418   CONTRACT             cross-border     50              28605.00000   \n",
       "\n",
       "     CARRIER_PRICE (COST)  MONTH       PROFIT  AVG_PROFIT_LOAD  AVG_REV_LOAD  \\\n",
       "21             1000.00000      1     40.00000         20.00000     520.00000   \n",
       "34            24625.00000      1  -1880.00000        -48.20513     583.20513   \n",
       "64             2265.00000      1   -577.68000       -192.56000     562.44000   \n",
       "104            2150.00000      1    -20.00000         -4.00000     426.00000   \n",
       "110          133295.00000      1 -13302.42000        -61.30147     552.96120   \n",
       "150           33585.00000      2    230.00000          3.96552     583.01724   \n",
       "159           91730.00000      2  -4499.45000        -26.00838     504.22283   \n",
       "183            2750.00000      2    330.00000        165.00000    1540.00000   \n",
       "199            3790.00000      2   -232.19000        -33.17000     508.25857   \n",
       "228            1160.00000      2     40.00000         20.00000     600.00000   \n",
       "285            1105.00000      3   -360.20000       -180.10000     372.40000   \n",
       "314           21265.00000      3  -3098.03000        -81.52711     478.07816   \n",
       "344            3300.00000      3   -380.00000        -63.33333     486.66667   \n",
       "393          172425.00000      3 -33424.42000       -119.37293     496.43064   \n",
       "418           30390.00000      3  -1785.00000        -35.70000     572.10000   \n",
       "\n",
       "     AVG_EXP_LOAD    MARGIN  \n",
       "21      500.00000   3.84615  \n",
       "34      631.41026  -8.26555  \n",
       "64      755.00000 -34.23654  \n",
       "104     430.00000  -0.93897  \n",
       "110     614.26267 -11.08604  \n",
       "150     579.05172   0.68017  \n",
       "159     530.23121  -5.15811  \n",
       "183    1375.00000  10.71429  \n",
       "199     541.42857  -6.52621  \n",
       "228     580.00000   3.33333  \n",
       "285     552.50000 -48.36198  \n",
       "314     559.60526 -17.05309  \n",
       "344     550.00000 -13.01370  \n",
       "393     615.80357 -24.04624  \n",
       "418     607.80000  -6.24017  "
      ]
     },
     "execution_count": 203,
     "metadata": {},
     "output_type": "execute_result"
    }
   ],
   "source": [
    "q1[q1['SHIPPER ID']=='0010O00002BF1aSQAT']"
   ]
  },
  {
   "cell_type": "code",
   "execution_count": 179,
   "metadata": {},
   "outputs": [],
   "source": [
    "x = con_goods[con_goods['SHIPPER ID']=='0010O00002BF1aSQAT']"
   ]
  },
  {
   "cell_type": "code",
   "execution_count": 180,
   "metadata": {},
   "outputs": [
    {
     "data": {
      "text/html": [
       "<div>\n",
       "<style scoped>\n",
       "    .dataframe tbody tr th:only-of-type {\n",
       "        vertical-align: middle;\n",
       "    }\n",
       "\n",
       "    .dataframe tbody tr th {\n",
       "        vertical-align: top;\n",
       "    }\n",
       "\n",
       "    .dataframe thead th {\n",
       "        text-align: right;\n",
       "    }\n",
       "</style>\n",
       "<table border=\"1\" class=\"dataframe\">\n",
       "  <thead>\n",
       "    <tr style=\"text-align: right;\">\n",
       "      <th></th>\n",
       "      <th>SHIPPER ID</th>\n",
       "      <th>SHIPPER CATEGORY</th>\n",
       "      <th>LOAD CATEGORY</th>\n",
       "      <th>ORDER_TYPE</th>\n",
       "      <th>DOMESTIC_VS_CROSS_BORDER</th>\n",
       "      <th>LOADS</th>\n",
       "      <th>SHIPPER_PRICE (REVENUE)</th>\n",
       "      <th>CARRIER_PRICE (COST)</th>\n",
       "      <th>MONTH</th>\n",
       "      <th>PROFIT</th>\n",
       "      <th>AVG_PROFIT_LOAD</th>\n",
       "      <th>AVG_REV_LOAD</th>\n",
       "      <th>AVG_EXP_LOAD</th>\n",
       "    </tr>\n",
       "  </thead>\n",
       "  <tbody>\n",
       "    <tr>\n",
       "      <th>21</th>\n",
       "      <td>0010O00002BF1aSQAT</td>\n",
       "      <td>Consumer Goods</td>\n",
       "      <td>MANUAL</td>\n",
       "      <td>SPOT</td>\n",
       "      <td>cross-border</td>\n",
       "      <td>2</td>\n",
       "      <td>1040.00000</td>\n",
       "      <td>1000.00000</td>\n",
       "      <td>1</td>\n",
       "      <td>40.00000</td>\n",
       "      <td>20.00000</td>\n",
       "      <td>520.00000</td>\n",
       "      <td>500.00000</td>\n",
       "    </tr>\n",
       "    <tr>\n",
       "      <th>34</th>\n",
       "      <td>0010O00002BF1aSQAT</td>\n",
       "      <td>Consumer Goods</td>\n",
       "      <td>PLATFORM</td>\n",
       "      <td>CONTRACT</td>\n",
       "      <td>cross-border</td>\n",
       "      <td>39</td>\n",
       "      <td>22745.00000</td>\n",
       "      <td>24625.00000</td>\n",
       "      <td>1</td>\n",
       "      <td>-1880.00000</td>\n",
       "      <td>-48.20513</td>\n",
       "      <td>583.20513</td>\n",
       "      <td>631.41026</td>\n",
       "    </tr>\n",
       "    <tr>\n",
       "      <th>64</th>\n",
       "      <td>0010O00002BF1aSQAT</td>\n",
       "      <td>Consumer Goods</td>\n",
       "      <td>MANUAL</td>\n",
       "      <td>CONTRACT</td>\n",
       "      <td>domestic</td>\n",
       "      <td>3</td>\n",
       "      <td>1687.32000</td>\n",
       "      <td>2265.00000</td>\n",
       "      <td>1</td>\n",
       "      <td>-577.68000</td>\n",
       "      <td>-192.56000</td>\n",
       "      <td>562.44000</td>\n",
       "      <td>755.00000</td>\n",
       "    </tr>\n",
       "    <tr>\n",
       "      <th>104</th>\n",
       "      <td>0010O00002BF1aSQAT</td>\n",
       "      <td>Consumer Goods</td>\n",
       "      <td>MANUAL</td>\n",
       "      <td>CONTRACT</td>\n",
       "      <td>cross-border</td>\n",
       "      <td>5</td>\n",
       "      <td>2130.00000</td>\n",
       "      <td>2150.00000</td>\n",
       "      <td>1</td>\n",
       "      <td>-20.00000</td>\n",
       "      <td>-4.00000</td>\n",
       "      <td>426.00000</td>\n",
       "      <td>430.00000</td>\n",
       "    </tr>\n",
       "    <tr>\n",
       "      <th>110</th>\n",
       "      <td>0010O00002BF1aSQAT</td>\n",
       "      <td>Consumer Goods</td>\n",
       "      <td>PLATFORM</td>\n",
       "      <td>CONTRACT</td>\n",
       "      <td>domestic</td>\n",
       "      <td>217</td>\n",
       "      <td>119992.58000</td>\n",
       "      <td>133295.00000</td>\n",
       "      <td>1</td>\n",
       "      <td>-13302.42000</td>\n",
       "      <td>-61.30147</td>\n",
       "      <td>552.96120</td>\n",
       "      <td>614.26267</td>\n",
       "    </tr>\n",
       "    <tr>\n",
       "      <th>150</th>\n",
       "      <td>0010O00002BF1aSQAT</td>\n",
       "      <td>Consumer Goods</td>\n",
       "      <td>PLATFORM</td>\n",
       "      <td>CONTRACT</td>\n",
       "      <td>cross-border</td>\n",
       "      <td>58</td>\n",
       "      <td>33815.00000</td>\n",
       "      <td>33585.00000</td>\n",
       "      <td>2</td>\n",
       "      <td>230.00000</td>\n",
       "      <td>3.96552</td>\n",
       "      <td>583.01724</td>\n",
       "      <td>579.05172</td>\n",
       "    </tr>\n",
       "    <tr>\n",
       "      <th>159</th>\n",
       "      <td>0010O00002BF1aSQAT</td>\n",
       "      <td>Consumer Goods</td>\n",
       "      <td>PLATFORM</td>\n",
       "      <td>CONTRACT</td>\n",
       "      <td>domestic</td>\n",
       "      <td>173</td>\n",
       "      <td>87230.55000</td>\n",
       "      <td>91730.00000</td>\n",
       "      <td>2</td>\n",
       "      <td>-4499.45000</td>\n",
       "      <td>-26.00838</td>\n",
       "      <td>504.22283</td>\n",
       "      <td>530.23121</td>\n",
       "    </tr>\n",
       "    <tr>\n",
       "      <th>183</th>\n",
       "      <td>0010O00002BF1aSQAT</td>\n",
       "      <td>Consumer Goods</td>\n",
       "      <td>MANUAL</td>\n",
       "      <td>SPOT</td>\n",
       "      <td>cross-border</td>\n",
       "      <td>2</td>\n",
       "      <td>3080.00000</td>\n",
       "      <td>2750.00000</td>\n",
       "      <td>2</td>\n",
       "      <td>330.00000</td>\n",
       "      <td>165.00000</td>\n",
       "      <td>1540.00000</td>\n",
       "      <td>1375.00000</td>\n",
       "    </tr>\n",
       "    <tr>\n",
       "      <th>199</th>\n",
       "      <td>0010O00002BF1aSQAT</td>\n",
       "      <td>Consumer Goods</td>\n",
       "      <td>MANUAL</td>\n",
       "      <td>CONTRACT</td>\n",
       "      <td>domestic</td>\n",
       "      <td>7</td>\n",
       "      <td>3557.81000</td>\n",
       "      <td>3790.00000</td>\n",
       "      <td>2</td>\n",
       "      <td>-232.19000</td>\n",
       "      <td>-33.17000</td>\n",
       "      <td>508.25857</td>\n",
       "      <td>541.42857</td>\n",
       "    </tr>\n",
       "    <tr>\n",
       "      <th>228</th>\n",
       "      <td>0010O00002BF1aSQAT</td>\n",
       "      <td>Consumer Goods</td>\n",
       "      <td>MANUAL</td>\n",
       "      <td>CONTRACT</td>\n",
       "      <td>cross-border</td>\n",
       "      <td>2</td>\n",
       "      <td>1200.00000</td>\n",
       "      <td>1160.00000</td>\n",
       "      <td>2</td>\n",
       "      <td>40.00000</td>\n",
       "      <td>20.00000</td>\n",
       "      <td>600.00000</td>\n",
       "      <td>580.00000</td>\n",
       "    </tr>\n",
       "    <tr>\n",
       "      <th>285</th>\n",
       "      <td>0010O00002BF1aSQAT</td>\n",
       "      <td>Consumer Goods</td>\n",
       "      <td>MANUAL</td>\n",
       "      <td>SPOT</td>\n",
       "      <td>domestic</td>\n",
       "      <td>2</td>\n",
       "      <td>744.80000</td>\n",
       "      <td>1105.00000</td>\n",
       "      <td>3</td>\n",
       "      <td>-360.20000</td>\n",
       "      <td>-180.10000</td>\n",
       "      <td>372.40000</td>\n",
       "      <td>552.50000</td>\n",
       "    </tr>\n",
       "    <tr>\n",
       "      <th>314</th>\n",
       "      <td>0010O00002BF1aSQAT</td>\n",
       "      <td>Consumer Goods</td>\n",
       "      <td>PLATFORM</td>\n",
       "      <td>CONTRACT</td>\n",
       "      <td>domestic</td>\n",
       "      <td>38</td>\n",
       "      <td>18166.97000</td>\n",
       "      <td>21265.00000</td>\n",
       "      <td>3</td>\n",
       "      <td>-3098.03000</td>\n",
       "      <td>-81.52711</td>\n",
       "      <td>478.07816</td>\n",
       "      <td>559.60526</td>\n",
       "    </tr>\n",
       "    <tr>\n",
       "      <th>344</th>\n",
       "      <td>0010O00002BF1aSQAT</td>\n",
       "      <td>Consumer Goods</td>\n",
       "      <td>PLATFORM</td>\n",
       "      <td>CONTRACT</td>\n",
       "      <td>cross-border</td>\n",
       "      <td>6</td>\n",
       "      <td>2920.00000</td>\n",
       "      <td>3300.00000</td>\n",
       "      <td>3</td>\n",
       "      <td>-380.00000</td>\n",
       "      <td>-63.33333</td>\n",
       "      <td>486.66667</td>\n",
       "      <td>550.00000</td>\n",
       "    </tr>\n",
       "    <tr>\n",
       "      <th>393</th>\n",
       "      <td>0010O00002BF1aSQAT</td>\n",
       "      <td>Consumer Goods</td>\n",
       "      <td>MANUAL</td>\n",
       "      <td>CONTRACT</td>\n",
       "      <td>domestic</td>\n",
       "      <td>280</td>\n",
       "      <td>139000.58000</td>\n",
       "      <td>172425.00000</td>\n",
       "      <td>3</td>\n",
       "      <td>-33424.42000</td>\n",
       "      <td>-119.37293</td>\n",
       "      <td>496.43064</td>\n",
       "      <td>615.80357</td>\n",
       "    </tr>\n",
       "    <tr>\n",
       "      <th>418</th>\n",
       "      <td>0010O00002BF1aSQAT</td>\n",
       "      <td>Consumer Goods</td>\n",
       "      <td>MANUAL</td>\n",
       "      <td>CONTRACT</td>\n",
       "      <td>cross-border</td>\n",
       "      <td>50</td>\n",
       "      <td>28605.00000</td>\n",
       "      <td>30390.00000</td>\n",
       "      <td>3</td>\n",
       "      <td>-1785.00000</td>\n",
       "      <td>-35.70000</td>\n",
       "      <td>572.10000</td>\n",
       "      <td>607.80000</td>\n",
       "    </tr>\n",
       "  </tbody>\n",
       "</table>\n",
       "</div>"
      ],
      "text/plain": [
       "             SHIPPER ID SHIPPER CATEGORY LOAD CATEGORY ORDER_TYPE  \\\n",
       "21   0010O00002BF1aSQAT   Consumer Goods        MANUAL       SPOT   \n",
       "34   0010O00002BF1aSQAT   Consumer Goods      PLATFORM   CONTRACT   \n",
       "64   0010O00002BF1aSQAT   Consumer Goods        MANUAL   CONTRACT   \n",
       "104  0010O00002BF1aSQAT   Consumer Goods        MANUAL   CONTRACT   \n",
       "110  0010O00002BF1aSQAT   Consumer Goods      PLATFORM   CONTRACT   \n",
       "150  0010O00002BF1aSQAT   Consumer Goods      PLATFORM   CONTRACT   \n",
       "159  0010O00002BF1aSQAT   Consumer Goods      PLATFORM   CONTRACT   \n",
       "183  0010O00002BF1aSQAT   Consumer Goods        MANUAL       SPOT   \n",
       "199  0010O00002BF1aSQAT   Consumer Goods        MANUAL   CONTRACT   \n",
       "228  0010O00002BF1aSQAT   Consumer Goods        MANUAL   CONTRACT   \n",
       "285  0010O00002BF1aSQAT   Consumer Goods        MANUAL       SPOT   \n",
       "314  0010O00002BF1aSQAT   Consumer Goods      PLATFORM   CONTRACT   \n",
       "344  0010O00002BF1aSQAT   Consumer Goods      PLATFORM   CONTRACT   \n",
       "393  0010O00002BF1aSQAT   Consumer Goods        MANUAL   CONTRACT   \n",
       "418  0010O00002BF1aSQAT   Consumer Goods        MANUAL   CONTRACT   \n",
       "\n",
       "    DOMESTIC_VS_CROSS_BORDER  LOADS  SHIPPER_PRICE (REVENUE)  \\\n",
       "21              cross-border      2               1040.00000   \n",
       "34              cross-border     39              22745.00000   \n",
       "64                  domestic      3               1687.32000   \n",
       "104             cross-border      5               2130.00000   \n",
       "110                 domestic    217             119992.58000   \n",
       "150             cross-border     58              33815.00000   \n",
       "159                 domestic    173              87230.55000   \n",
       "183             cross-border      2               3080.00000   \n",
       "199                 domestic      7               3557.81000   \n",
       "228             cross-border      2               1200.00000   \n",
       "285                 domestic      2                744.80000   \n",
       "314                 domestic     38              18166.97000   \n",
       "344             cross-border      6               2920.00000   \n",
       "393                 domestic    280             139000.58000   \n",
       "418             cross-border     50              28605.00000   \n",
       "\n",
       "     CARRIER_PRICE (COST)  MONTH       PROFIT  AVG_PROFIT_LOAD  AVG_REV_LOAD  \\\n",
       "21             1000.00000      1     40.00000         20.00000     520.00000   \n",
       "34            24625.00000      1  -1880.00000        -48.20513     583.20513   \n",
       "64             2265.00000      1   -577.68000       -192.56000     562.44000   \n",
       "104            2150.00000      1    -20.00000         -4.00000     426.00000   \n",
       "110          133295.00000      1 -13302.42000        -61.30147     552.96120   \n",
       "150           33585.00000      2    230.00000          3.96552     583.01724   \n",
       "159           91730.00000      2  -4499.45000        -26.00838     504.22283   \n",
       "183            2750.00000      2    330.00000        165.00000    1540.00000   \n",
       "199            3790.00000      2   -232.19000        -33.17000     508.25857   \n",
       "228            1160.00000      2     40.00000         20.00000     600.00000   \n",
       "285            1105.00000      3   -360.20000       -180.10000     372.40000   \n",
       "314           21265.00000      3  -3098.03000        -81.52711     478.07816   \n",
       "344            3300.00000      3   -380.00000        -63.33333     486.66667   \n",
       "393          172425.00000      3 -33424.42000       -119.37293     496.43064   \n",
       "418           30390.00000      3  -1785.00000        -35.70000     572.10000   \n",
       "\n",
       "     AVG_EXP_LOAD  \n",
       "21      500.00000  \n",
       "34      631.41026  \n",
       "64      755.00000  \n",
       "104     430.00000  \n",
       "110     614.26267  \n",
       "150     579.05172  \n",
       "159     530.23121  \n",
       "183    1375.00000  \n",
       "199     541.42857  \n",
       "228     580.00000  \n",
       "285     552.50000  \n",
       "314     559.60526  \n",
       "344     550.00000  \n",
       "393     615.80357  \n",
       "418     607.80000  "
      ]
     },
     "execution_count": 180,
     "metadata": {},
     "output_type": "execute_result"
    }
   ],
   "source": [
    "x"
   ]
  },
  {
   "cell_type": "code",
   "execution_count": 183,
   "metadata": {},
   "outputs": [
    {
     "data": {
      "text/plain": [
       "465915.61000000004"
      ]
     },
     "execution_count": 183,
     "metadata": {},
     "output_type": "execute_result"
    }
   ],
   "source": [
    "x['SHIPPER_PRICE (REVENUE)'].sum()"
   ]
  },
  {
   "cell_type": "code",
   "execution_count": 187,
   "metadata": {},
   "outputs": [
    {
     "name": "stderr",
     "output_type": "stream",
     "text": [
      "<ipython-input-187-1db924d0eb32>:1: SettingWithCopyWarning: \n",
      "A value is trying to be set on a copy of a slice from a DataFrame.\n",
      "Try using .loc[row_indexer,col_indexer] = value instead\n",
      "\n",
      "See the caveats in the documentation: https://pandas.pydata.org/pandas-docs/stable/user_guide/indexing.html#returning-a-view-versus-a-copy\n",
      "  x['margin_option_1'] = x['SHIPPER_PRICE (REVENUE)']*0.005\n"
     ]
    }
   ],
   "source": [
    "x['margin_option_1'] = x['SHIPPER_PRICE (REVENUE)']*0.005"
   ]
  },
  {
   "cell_type": "code",
   "execution_count": 188,
   "metadata": {},
   "outputs": [
    {
     "data": {
      "text/plain": [
       "2329.57805"
      ]
     },
     "execution_count": 188,
     "metadata": {},
     "output_type": "execute_result"
    }
   ],
   "source": [
    "x['margin_option_1'].sum()"
   ]
  },
  {
   "cell_type": "markdown",
   "metadata": {},
   "source": [
    "So could increase shipping price to that customer by 0.5% as an example - or focus on other areas where performing very well and change those financials"
   ]
  },
  {
   "cell_type": "code",
   "execution_count": null,
   "metadata": {},
   "outputs": [],
   "source": []
  },
  {
   "cell_type": "code",
   "execution_count": null,
   "metadata": {},
   "outputs": [],
   "source": []
  },
  {
   "cell_type": "markdown",
   "metadata": {},
   "source": [
    "## END OF ANALYSIS"
   ]
  }
 ],
 "metadata": {
  "kernelspec": {
   "display_name": "Python 3",
   "language": "python",
   "name": "python3"
  },
  "language_info": {
   "codemirror_mode": {
    "name": "ipython",
    "version": 3
   },
   "file_extension": ".py",
   "mimetype": "text/x-python",
   "name": "python",
   "nbconvert_exporter": "python",
   "pygments_lexer": "ipython3",
   "version": "3.8.8"
  }
 },
 "nbformat": 4,
 "nbformat_minor": 4
}
